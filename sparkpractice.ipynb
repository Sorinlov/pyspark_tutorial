{
  "nbformat": 4,
  "nbformat_minor": 0,
  "metadata": {
    "colab": {
      "name": "sparkpractice",
      "version": "0.3.2",
      "provenance": [],
      "collapsed_sections": [],
      "include_colab_link": true
    },
    "kernelspec": {
      "name": "python2",
      "display_name": "Python 2"
    }
  },
  "cells": [
    {
      "cell_type": "markdown",
      "metadata": {
        "id": "view-in-github",
        "colab_type": "text"
      },
      "source": [
        "<a href=\"https://colab.research.google.com/github/Sorinlov/pyspark_tutorial/blob/master/sparkpractice.ipynb\" target=\"_parent\"><img src=\"https://colab.research.google.com/assets/colab-badge.svg\" alt=\"Open In Colab\"/></a>"
      ]
    },
    {
      "cell_type": "code",
      "metadata": {
        "id": "8lpXhmZkfEx1",
        "colab_type": "code",
        "outputId": "97fbe5dd-966d-47f1-f321-0102fc1dad0d",
        "colab": {
          "base_uri": "https://localhost:8080/",
          "height": 287
        }
      },
      "source": [
        "## set pyspark environment\n",
        "!apt-get update\n",
        "!apt-get install openjdk-8-jdk-headless -qq > /dev/null\n",
        "!wget -q http://www-us.apache.org/dist/spark/spark-2.4.3/spark-2.4.3-bin-hadoop2.7.tgz\n",
        "!tar xf spark-2.4.3-bin-hadoop2.7.tgz\n",
        "!pip install -q findspark\n",
        "\n",
        "!wget -q http://www-us.apache.org/dist/spark/spark-2.4.3/spark-2.4.3-bin-hadoop2.7.tgz\n",
        "!tar xf spark-2.4.3-bin-hadoop2.7.tgz\n",
        "!pip install -q findspark\n",
        "\n",
        "import os\n",
        "os.environ['JAVA_HOME'] = '/usr/lib/jvm/java-8-openjdk-amd64'\n",
        "os.environ['SPARK_HOME'] = '/content/spark-2.4.3-bin-hadoop2.7'\n",
        "\n",
        "import findspark\n",
        "findspark.init()\n",
        "from pyspark import SparkContext\n",
        "\n",
        "sc = SparkContext.getOrCreate()\n",
        "sc\n",
        "\n",
        "import pyspark\n",
        "from pyspark.sql import SparkSession\n",
        "spark = SparkSession.builder.getOrCreate()\n",
        "spark"
      ],
      "execution_count": 0,
      "outputs": [
        {
          "output_type": "stream",
          "text": [
            "\r0% [Working]\r            \rIgn:1 https://developer.download.nvidia.com/compute/cuda/repos/ubuntu1804/x86_64  InRelease\n",
            "\r0% [Waiting for headers] [Waiting for headers] [Connected to cloud.r-project.or\r                                                                               \rHit:2 http://ppa.launchpad.net/graphics-drivers/ppa/ubuntu bionic InRelease\n",
            "\r0% [Waiting for headers] [Waiting for headers] [Waiting for headers] [Waiting f\r                                                                               \rHit:3 http://security.ubuntu.com/ubuntu bionic-security InRelease\n",
            "\r0% [Waiting for headers] [Waiting for headers] [Waiting for headers] [Connectin\r0% [2 InRelease gpgv 21.3 kB] [Waiting for headers] [Waiting for headers] [Wait\r                                                                               \rHit:4 https://cloud.r-project.org/bin/linux/ubuntu bionic-cran35/ InRelease\n",
            "\r0% [2 InRelease gpgv 21.3 kB] [Waiting for headers] [Waiting for headers] [Conn\r                                                                               \rHit:5 http://archive.ubuntu.com/ubuntu bionic InRelease\n",
            "\r0% [2 InRelease gpgv 21.3 kB] [Waiting for headers] [Waiting for headers] [Conn\r                                                                               \rIgn:6 https://developer.download.nvidia.com/compute/machine-learning/repos/ubuntu1804/x86_64  InRelease\n",
            "\r0% [2 InRelease gpgv 21.3 kB] [Waiting for headers] [Connecting to ppa.launchpa\r                                                                               \rHit:7 https://developer.download.nvidia.com/compute/cuda/repos/ubuntu1804/x86_64  Release\n",
            "\r0% [2 InRelease gpgv 21.3 kB] [Waiting for headers] [Connecting to ppa.launchpa\r                                                                               \rHit:8 https://developer.download.nvidia.com/compute/machine-learning/repos/ubuntu1804/x86_64  Release\n",
            "\r0% [2 InRelease gpgv 21.3 kB] [Waiting for headers] [Connecting to ppa.launchpa\r                                                                               \rGet:9 http://archive.ubuntu.com/ubuntu bionic-updates InRelease [88.7 kB]\n",
            "Hit:10 http://ppa.launchpad.net/marutter/c2d4u3.5/ubuntu bionic InRelease\n",
            "Get:11 http://archive.ubuntu.com/ubuntu bionic-backports InRelease [74.6 kB]\n",
            "Get:14 http://archive.ubuntu.com/ubuntu bionic-updates/universe amd64 Packages [1,199 kB]\n",
            "Get:15 http://archive.ubuntu.com/ubuntu bionic-updates/main amd64 Packages [802 kB]\n",
            "Fetched 2,164 kB in 2s (870 kB/s)\n",
            "Reading package lists... Done\n"
          ],
          "name": "stdout"
        }
      ]
    },
    {
      "cell_type": "markdown",
      "metadata": {
        "id": "q8BIwhsNleBz",
        "colab_type": "text"
      },
      "source": [
        "https://data.cityofchicago.org/api/views/ijzp-q8t2/rows.csv?accessType=DOWNLOAD"
      ]
    },
    {
      "cell_type": "code",
      "metadata": {
        "id": "mDC_cfQ5lfBR",
        "colab_type": "code",
        "outputId": "ac49af5c-a008-427b-a7c4-dd86d648fb31",
        "colab": {
          "base_uri": "https://localhost:8080/",
          "height": 228
        }
      },
      "source": [
        "## download dataset\n",
        "!wget https://data.cityofchicago.org/api/views/ijzp-q8t2/rows.csv?accessType=DOWNLOAD"
      ],
      "execution_count": 0,
      "outputs": [
        {
          "output_type": "stream",
          "text": [
            "--2019-05-14 13:44:44--  https://data.cityofchicago.org/api/views/ijzp-q8t2/rows.csv?accessType=DOWNLOAD\n",
            "Resolving data.cityofchicago.org (data.cityofchicago.org)... 52.206.68.26, 52.206.140.205, 52.206.140.199\n",
            "Connecting to data.cityofchicago.org (data.cityofchicago.org)|52.206.68.26|:443... connected.\n",
            "HTTP request sent, awaiting response... 200 OK\n",
            "Length: unspecified [text/csv]\n",
            "Saving to: ‘rows.csv?accessType=DOWNLOAD’\n",
            "\n",
            "rows.csv?accessType     [             <=>    ]   1.68G  2.84MB/s    in 10m 14s \n",
            "\n",
            "2019-05-14 13:55:14 (2.81 MB/s) - ‘rows.csv?accessType=DOWNLOAD’ saved [1806638040]\n",
            "\n"
          ],
          "name": "stdout"
        }
      ]
    },
    {
      "cell_type": "code",
      "metadata": {
        "id": "t86mZ63vlp0X",
        "colab_type": "code",
        "outputId": "ac769776-5bd5-49be-8b75-f3f1f7226ee9",
        "colab": {
          "base_uri": "https://localhost:8080/",
          "height": 53
        }
      },
      "source": [
        "!ls"
      ],
      "execution_count": 0,
      "outputs": [
        {
          "output_type": "stream",
          "text": [
            "sample_data\t\t   spark-2.4.3-bin-hadoop2.7.tgz\n",
            "spark-2.4.3-bin-hadoop2.7  spark-2.4.3-bin-hadoop2.7.tgz.1\n"
          ],
          "name": "stdout"
        }
      ]
    },
    {
      "cell_type": "code",
      "metadata": {
        "id": "mhazrIrTozus",
        "colab_type": "code",
        "colab": {}
      },
      "source": [
        "## rename dataset file\n",
        "!mv rows.csv\\?accessType=DOWNLOAD reported-crimes.csv"
      ],
      "execution_count": 0,
      "outputs": []
    },
    {
      "cell_type": "code",
      "metadata": {
        "id": "AItL64DXpB24",
        "colab_type": "code",
        "outputId": "e33e6d98-d90c-4299-b0b7-e701d1d58b28",
        "colab": {
          "base_uri": "https://localhost:8080/",
          "height": 52
        }
      },
      "source": [
        "!ls"
      ],
      "execution_count": 0,
      "outputs": [
        {
          "output_type": "stream",
          "text": [
            "reported-crimes.csv  spark-2.4.3-bin-hadoop2.7\n",
            "sample_data\t     spark-2.4.3-bin-hadoop2.7.tgz\n"
          ],
          "name": "stdout"
        }
      ]
    },
    {
      "cell_type": "code",
      "metadata": {
        "id": "UXtN6HhIrmeI",
        "colab_type": "code",
        "colab": {}
      },
      "source": [
        "## read dataset\n",
        "df = spark.read.csv('/content/reported-crimes.csv',header = True)"
      ],
      "execution_count": 0,
      "outputs": []
    },
    {
      "cell_type": "code",
      "metadata": {
        "id": "Xpx1oQKdrrDA",
        "colab_type": "code",
        "outputId": "d5587411-92b5-40d4-bb45-350ae3101267",
        "colab": {
          "base_uri": "https://localhost:8080/",
          "height": 124
        }
      },
      "source": [
        "df.take(5)"
      ],
      "execution_count": 0,
      "outputs": [
        {
          "output_type": "execute_result",
          "data": {
            "text/plain": [
              "[Row(ID=u'11678911', Case Number=u'JC253154', Date=u'05/06/2019 11:53:00 PM', Block=u'100XX W OHARE ST', IUCR=u'1152', Primary Type=u'DECEPTIVE PRACTICE', Description=u'ILLEGAL USE CASH CARD', Location Description=u'AIRPORT TERMINAL UPPER LEVEL - SECURE AREA', Arrest=u'false', Domestic=u'false', Beat=u'1651', District=u'016', Ward=u'41', Community Area=u'76', FBI Code=u'11', X Coordinate=u'1100658', Y Coordinate=u'1934241', Year=u'2019', Updated On=u'05/13/2019 04:13:25 PM', Latitude=u'41.976290414', Longitude=u'-87.905227221', Location=u'(41.976290414, -87.905227221)', Historical Wards 2003-2015=None, Zip Codes=None, Community Areas=None, Census Tracts=None, Wards=None, Boundaries - ZIP Codes=None, Police Districts=None, Police Beats=None),\n",
              " Row(ID=u'11678704', Case Number=u'JC252900', Date=u'05/06/2019 11:53:00 PM', Block=u'018XX W HOWARD ST', IUCR=u'0610', Primary Type=u'BURGLARY', Description=u'FORCIBLE ENTRY', Location Description=u'RESTAURANT', Arrest=u'false', Domestic=u'false', Beat=u'2424', District=u'024', Ward=u'49', Community Area=u'1', FBI Code=u'05', X Coordinate=u'1162562', Y Coordinate=u'1950347', Year=u'2019', Updated On=u'05/13/2019 04:13:25 PM', Latitude=u'42.019411121', Longitude=u'-87.677124936', Location=u'(42.019411121, -87.677124936)', Historical Wards 2003-2015=None, Zip Codes=None, Community Areas=None, Census Tracts=None, Wards=None, Boundaries - ZIP Codes=None, Police Districts=None, Police Beats=None),\n",
              " Row(ID=u'11678735', Case Number=u'JC252879', Date=u'05/06/2019 11:49:00 PM', Block=u'063XX S MARSHFIELD AVE', IUCR=u'0610', Primary Type=u'BURGLARY', Description=u'FORCIBLE ENTRY', Location Description=u'RESIDENCE', Arrest=u'false', Domestic=u'false', Beat=u'0725', District=u'007', Ward=u'16', Community Area=u'67', FBI Code=u'05', X Coordinate=u'1166412', Y Coordinate=u'1862674', Year=u'2019', Updated On=u'05/13/2019 04:13:25 PM', Latitude=u'41.77874847', Longitude=u'-87.665468981', Location=u'(41.77874847, -87.665468981)', Historical Wards 2003-2015=None, Zip Codes=None, Community Areas=None, Census Tracts=None, Wards=None, Boundaries - ZIP Codes=None, Police Districts=None, Police Beats=None),\n",
              " Row(ID=u'11679131', Case Number=u'JC252877', Date=u'05/06/2019 11:40:00 PM', Block=u'001XX W 109TH ST', IUCR=u'1030', Primary Type=u'ARSON', Description=u'POS: EXPLOSIVE/INCENDIARY DEV', Location Description=u'RESIDENCE', Arrest=u'false', Domestic=u'false', Beat=u'0513', District=u'005', Ward=u'34', Community Area=u'49', FBI Code=u'09', X Coordinate=u'1177310', Y Coordinate=u'1832676', Year=u'2019', Updated On=u'05/13/2019 04:13:25 PM', Latitude=u'41.696191009', Longitude=u'-87.626419598', Location=u'(41.696191009, -87.626419598)', Historical Wards 2003-2015=None, Zip Codes=None, Community Areas=None, Census Tracts=None, Wards=None, Boundaries - ZIP Codes=None, Police Districts=None, Police Beats=None),\n",
              " Row(ID=u'11678753', Case Number=u'JC252959', Date=u'05/06/2019 11:30:00 PM', Block=u'069XX S DORCHESTER AVE', IUCR=u'031A', Primary Type=u'ROBBERY', Description=u'ARMED: HANDGUN', Location Description=u'SIDEWALK', Arrest=u'false', Domestic=u'false', Beat=u'0321', District=u'003', Ward=u'5', Community Area=u'43', FBI Code=u'03', X Coordinate=u'1186735', Y Coordinate=u'1859307', Year=u'2019', Updated On=u'05/13/2019 04:13:25 PM', Latitude=u'41.769051845', Longitude=u'-87.591070603', Location=u'(41.769051845, -87.591070603)', Historical Wards 2003-2015=None, Zip Codes=None, Community Areas=None, Census Tracts=None, Wards=None, Boundaries - ZIP Codes=None, Police Districts=None, Police Beats=None)]"
            ]
          },
          "metadata": {
            "tags": []
          },
          "execution_count": 30
        }
      ]
    },
    {
      "cell_type": "code",
      "metadata": {
        "id": "XMx1QZuxtOhv",
        "colab_type": "code",
        "outputId": "20ec1aa9-810c-4e5f-af4d-c2a1d6589e48",
        "colab": {
          "base_uri": "https://localhost:8080/",
          "height": 228
        }
      },
      "source": [
        "df.show(5)"
      ],
      "execution_count": 0,
      "outputs": [
        {
          "output_type": "stream",
          "text": [
            "+--------+-----------+--------------------+--------------------+----+------------------+--------------------+--------------------+------+--------+----+--------+----+--------------+--------+------------+------------+----+--------------------+------------+-------------+--------------------+--------------------------+---------+---------------+-------------+-----+----------------------+----------------+------------+\n",
            "|      ID|Case Number|                Date|               Block|IUCR|      Primary Type|         Description|Location Description|Arrest|Domestic|Beat|District|Ward|Community Area|FBI Code|X Coordinate|Y Coordinate|Year|          Updated On|    Latitude|    Longitude|            Location|Historical Wards 2003-2015|Zip Codes|Community Areas|Census Tracts|Wards|Boundaries - ZIP Codes|Police Districts|Police Beats|\n",
            "+--------+-----------+--------------------+--------------------+----+------------------+--------------------+--------------------+------+--------+----+--------+----+--------------+--------+------------+------------+----+--------------------+------------+-------------+--------------------+--------------------------+---------+---------------+-------------+-----+----------------------+----------------+------------+\n",
            "|11678911|   JC253154|05/06/2019 11:53:...|    100XX W OHARE ST|1152|DECEPTIVE PRACTICE|ILLEGAL USE CASH ...|AIRPORT TERMINAL ...| false|   false|1651|     016|  41|            76|      11|     1100658|     1934241|2019|05/13/2019 04:13:...|41.976290414|-87.905227221|(41.976290414, -8...|                      null|     null|           null|         null| null|                  null|            null|        null|\n",
            "|11678704|   JC252900|05/06/2019 11:53:...|   018XX W HOWARD ST|0610|          BURGLARY|      FORCIBLE ENTRY|          RESTAURANT| false|   false|2424|     024|  49|             1|      05|     1162562|     1950347|2019|05/13/2019 04:13:...|42.019411121|-87.677124936|(42.019411121, -8...|                      null|     null|           null|         null| null|                  null|            null|        null|\n",
            "|11678735|   JC252879|05/06/2019 11:49:...|063XX S MARSHFIEL...|0610|          BURGLARY|      FORCIBLE ENTRY|           RESIDENCE| false|   false|0725|     007|  16|            67|      05|     1166412|     1862674|2019|05/13/2019 04:13:...| 41.77874847|-87.665468981|(41.77874847, -87...|                      null|     null|           null|         null| null|                  null|            null|        null|\n",
            "|11679131|   JC252877|05/06/2019 11:40:...|    001XX W 109TH ST|1030|             ARSON|POS: EXPLOSIVE/IN...|           RESIDENCE| false|   false|0513|     005|  34|            49|      09|     1177310|     1832676|2019|05/13/2019 04:13:...|41.696191009|-87.626419598|(41.696191009, -8...|                      null|     null|           null|         null| null|                  null|            null|        null|\n",
            "|11678753|   JC252959|05/06/2019 11:30:...|069XX S DORCHESTE...|031A|           ROBBERY|      ARMED: HANDGUN|            SIDEWALK| false|   false|0321|     003|   5|            43|      03|     1186735|     1859307|2019|05/13/2019 04:13:...|41.769051845|-87.591070603|(41.769051845, -8...|                      null|     null|           null|         null| null|                  null|            null|        null|\n",
            "+--------+-----------+--------------------+--------------------+----+------------------+--------------------+--------------------+------+--------+----+--------+----+--------------+--------+------------+------------+----+--------------------+------------+-------------+--------------------+--------------------------+---------+---------------+-------------+-----+----------------------+----------------+------------+\n",
            "only showing top 5 rows\n",
            "\n"
          ],
          "name": "stdout"
        }
      ]
    },
    {
      "cell_type": "code",
      "metadata": {
        "id": "B4FAvTggtZww",
        "colab_type": "code",
        "outputId": "06628952-84d1-4493-ad19-3d9854538922",
        "colab": {
          "base_uri": "https://localhost:8080/",
          "height": 228
        }
      },
      "source": [
        "from pyspark.sql.functions import to_timestamp,col,lit\n",
        "rc = spark.read.csv('reported-crimes.csv',header=True).withColumn('Date',to_timestamp(col('Date'),'MM/dd/yyyy hh:mm:ss a')).filter(col('Date') <= lit('2018-11-11'))\n",
        "rc.show(5)"
      ],
      "execution_count": 0,
      "outputs": [
        {
          "output_type": "stream",
          "text": [
            "+--------+-----------+-------------------+--------------------+----+-------------------+--------------+--------------------+------+--------+----+--------+----+--------------+--------+------------+------------+----+--------------------+------------+-------------+--------------------+--------------------------+---------+---------------+-------------+-----+----------------------+----------------+------------+\n",
            "|      ID|Case Number|               Date|               Block|IUCR|       Primary Type|   Description|Location Description|Arrest|Domestic|Beat|District|Ward|Community Area|FBI Code|X Coordinate|Y Coordinate|Year|          Updated On|    Latitude|    Longitude|            Location|Historical Wards 2003-2015|Zip Codes|Community Areas|Census Tracts|Wards|Boundaries - ZIP Codes|Police Districts|Police Beats|\n",
            "+--------+-----------+-------------------+--------------------+----+-------------------+--------------+--------------------+------+--------+----+--------+----+--------------+--------+------------+------------+----+--------------------+------------+-------------+--------------------+--------------------------+---------+---------------+-------------+-----+----------------------+----------------+------------+\n",
            "|11504330|   JB512058|2018-11-10 23:55:00|021XX W GREENLEAF...|0820|              THEFT|$500 AND UNDER|              STREET| false|   false|2411|     024|  50|             2|      06|     1160583|     1946926|2018|11/17/2018 04:14:...|42.010065214|-87.684502849|(42.010065214, -8...|                        42|    22528|             20|          268|   27|                    12|              11|          35|\n",
            "|11503920|   JB511504|2018-11-10 23:53:00|081XX S HERMITAGE...|0910|MOTOR VEHICLE THEFT|    AUTOMOBILE|           APARTMENT| false|   false|0614|     006|  21|            71|      07|     1166095|     1850727|2018|11/17/2018 04:14:...|41.745971025|-87.666970419|(41.745971025, -8...|                         6|    21554|             70|          574|   13|                    59|              20|         237|\n",
            "|11504110|   JB511795|2018-11-10 23:50:00|   013XX S TRIPP AVE|1320|    CRIMINAL DAMAGE|    TO VEHICLE|VEHICLE NON-COMME...| false|   false|1011|     010|  24|            29|      14|     1148267|     1893365|2018|11/17/2018 04:14:...|  41.8633364|-87.731202138|(41.8633364, -87....|                        36|    21569|             30|          761|   14|                    57|              21|         155|\n",
            "|11503924|   JB511536|2018-11-10 23:45:00|  083XX S RHODES AVE|1310|    CRIMINAL DAMAGE|   TO PROPERTY|           RESIDENCE| false|    true|0632|     006|   6|            44|      14|     1181251|     1849759|2018|11/17/2018 04:14:...|41.742979225| -87.61146577|(41.742979225, -8...|                        31|    21546|             40|          140|   32|                    61|              20|         241|\n",
            "|11503921|   JB511539|2018-11-10 23:42:00|    055XX S GREEN ST|0580|           STALKING|        SIMPLE|           RESIDENCE| false|    true|0712|     007|  20|            68|     08A|     1171583|     1868046|2018|11/17/2018 04:14:...|41.793378076|-87.646354376|(41.793378076, -8...|                        53|    21559|             66|          113|    4|                    11|              17|         261|\n",
            "+--------+-----------+-------------------+--------------------+----+-------------------+--------------+--------------------+------+--------+----+--------+----+--------------+--------+------------+------------+----+--------------------+------------+-------------+--------------------+--------------------------+---------+---------------+-------------+-----+----------------------+----------------+------------+\n",
            "only showing top 5 rows\n",
            "\n"
          ],
          "name": "stdout"
        }
      ]
    },
    {
      "cell_type": "code",
      "metadata": {
        "id": "NZUwrj9swscz",
        "colab_type": "code",
        "outputId": "d566484b-2136-463d-cba3-cfe47288abc4",
        "colab": {
          "base_uri": "https://localhost:8080/",
          "height": 572
        }
      },
      "source": [
        "rc.printSchema()"
      ],
      "execution_count": 0,
      "outputs": [
        {
          "output_type": "stream",
          "text": [
            "root\n",
            " |-- ID: string (nullable = true)\n",
            " |-- Case Number: string (nullable = true)\n",
            " |-- Date: timestamp (nullable = true)\n",
            " |-- Block: string (nullable = true)\n",
            " |-- IUCR: string (nullable = true)\n",
            " |-- Primary Type: string (nullable = true)\n",
            " |-- Description: string (nullable = true)\n",
            " |-- Location Description: string (nullable = true)\n",
            " |-- Arrest: string (nullable = true)\n",
            " |-- Domestic: string (nullable = true)\n",
            " |-- Beat: string (nullable = true)\n",
            " |-- District: string (nullable = true)\n",
            " |-- Ward: string (nullable = true)\n",
            " |-- Community Area: string (nullable = true)\n",
            " |-- FBI Code: string (nullable = true)\n",
            " |-- X Coordinate: string (nullable = true)\n",
            " |-- Y Coordinate: string (nullable = true)\n",
            " |-- Year: string (nullable = true)\n",
            " |-- Updated On: string (nullable = true)\n",
            " |-- Latitude: string (nullable = true)\n",
            " |-- Longitude: string (nullable = true)\n",
            " |-- Location: string (nullable = true)\n",
            " |-- Historical Wards 2003-2015: string (nullable = true)\n",
            " |-- Zip Codes: string (nullable = true)\n",
            " |-- Community Areas: string (nullable = true)\n",
            " |-- Census Tracts: string (nullable = true)\n",
            " |-- Wards: string (nullable = true)\n",
            " |-- Boundaries - ZIP Codes: string (nullable = true)\n",
            " |-- Police Districts: string (nullable = true)\n",
            " |-- Police Beats: string (nullable = true)\n",
            "\n"
          ],
          "name": "stdout"
        }
      ]
    },
    {
      "cell_type": "code",
      "metadata": {
        "id": "4BYMK3JDxd_g",
        "colab_type": "code",
        "colab": {}
      },
      "source": [
        "from pyspark.sql.types import StructType, StructField, StringType, TimestampType, DoubleType, IntegerType"
      ],
      "execution_count": 0,
      "outputs": []
    },
    {
      "cell_type": "code",
      "metadata": {
        "id": "KZUbKk_wxxZq",
        "colab_type": "code",
        "outputId": "6fd48634-6589-4c23-c224-464db7bc69e3",
        "colab": {
          "base_uri": "https://localhost:8080/",
          "height": 537
        }
      },
      "source": [
        "rc.columns"
      ],
      "execution_count": 0,
      "outputs": [
        {
          "output_type": "execute_result",
          "data": {
            "text/plain": [
              "['ID',\n",
              " 'Case Number',\n",
              " 'Date',\n",
              " 'Block',\n",
              " 'IUCR',\n",
              " 'Primary Type',\n",
              " 'Description',\n",
              " 'Location Description',\n",
              " 'Arrest',\n",
              " 'Domestic',\n",
              " 'Beat',\n",
              " 'District',\n",
              " 'Ward',\n",
              " 'Community Area',\n",
              " 'FBI Code',\n",
              " 'X Coordinate',\n",
              " 'Y Coordinate',\n",
              " 'Year',\n",
              " 'Updated On',\n",
              " 'Latitude',\n",
              " 'Longitude',\n",
              " 'Location',\n",
              " 'Historical Wards 2003-2015',\n",
              " 'Zip Codes',\n",
              " 'Community Areas',\n",
              " 'Census Tracts',\n",
              " 'Wards',\n",
              " 'Boundaries - ZIP Codes',\n",
              " 'Police Districts',\n",
              " 'Police Beats']"
            ]
          },
          "metadata": {
            "tags": []
          },
          "execution_count": 36
        }
      ]
    },
    {
      "cell_type": "code",
      "metadata": {
        "id": "GaitC872x0z3",
        "colab_type": "code",
        "colab": {}
      },
      "source": [
        "labels = [('ID',StringType()),\n",
        " ('Case Number',StringType()),\n",
        " ('Date',TimestampType()),\n",
        " ('Block',StringType())\n",
        " ]"
      ],
      "execution_count": 0,
      "outputs": []
    },
    {
      "cell_type": "code",
      "metadata": {
        "id": "mUkCNmtFy0Nw",
        "colab_type": "code",
        "outputId": "af9f0b53-426a-4eaa-c20b-38b3849b7890",
        "colab": {
          "base_uri": "https://localhost:8080/",
          "height": 55
        }
      },
      "source": [
        "schema = StructType([StructField (x[0], x[1], True) for x in labels])\n",
        "schema"
      ],
      "execution_count": 0,
      "outputs": [
        {
          "output_type": "execute_result",
          "data": {
            "text/plain": [
              "StructType(List(StructField(ID,StringType,true),StructField(Case Number,StringType,true),StructField(Date,TimestampType,true),StructField(Block,StringType,true)))"
            ]
          },
          "metadata": {
            "tags": []
          },
          "execution_count": 38
        }
      ]
    },
    {
      "cell_type": "code",
      "metadata": {
        "id": "8xii-lE0zD-I",
        "colab_type": "code",
        "outputId": "c73430eb-fb3a-4d34-b110-eca1da9ed9bc",
        "colab": {
          "base_uri": "https://localhost:8080/",
          "height": 173
        }
      },
      "source": [
        "rcless = rc['ID',\n",
        " 'Case Number',\n",
        " 'Date',\n",
        " 'Block']\n",
        "rc.select('ID',\n",
        " 'Case Number',\n",
        " 'Date',\n",
        " 'Block').show(3)"
      ],
      "execution_count": 0,
      "outputs": [
        {
          "output_type": "stream",
          "text": [
            "+--------+-----------+-------------------+--------------------+\n",
            "|      ID|Case Number|               Date|               Block|\n",
            "+--------+-----------+-------------------+--------------------+\n",
            "|11504330|   JB512058|2018-11-10 23:55:00|021XX W GREENLEAF...|\n",
            "|11503920|   JB511504|2018-11-10 23:53:00|081XX S HERMITAGE...|\n",
            "|11504110|   JB511795|2018-11-10 23:50:00|   013XX S TRIPP AVE|\n",
            "+--------+-----------+-------------------+--------------------+\n",
            "only showing top 3 rows\n",
            "\n"
          ],
          "name": "stdout"
        }
      ]
    },
    {
      "cell_type": "code",
      "metadata": {
        "id": "ZsoCzeWQzg4n",
        "colab_type": "code",
        "outputId": "da35337f-81b8-4a5a-a851-5dc7e5fa7b76",
        "colab": {
          "base_uri": "https://localhost:8080/",
          "height": 208
        }
      },
      "source": [
        "rcless.show(5)"
      ],
      "execution_count": 0,
      "outputs": [
        {
          "output_type": "stream",
          "text": [
            "+--------+-----------+-------------------+--------------------+\n",
            "|      ID|Case Number|               Date|               Block|\n",
            "+--------+-----------+-------------------+--------------------+\n",
            "|11504330|   JB512058|2018-11-10 23:55:00|021XX W GREENLEAF...|\n",
            "|11503920|   JB511504|2018-11-10 23:53:00|081XX S HERMITAGE...|\n",
            "|11504110|   JB511795|2018-11-10 23:50:00|   013XX S TRIPP AVE|\n",
            "|11503924|   JB511536|2018-11-10 23:45:00|  083XX S RHODES AVE|\n",
            "|11503921|   JB511539|2018-11-10 23:42:00|    055XX S GREEN ST|\n",
            "+--------+-----------+-------------------+--------------------+\n",
            "only showing top 5 rows\n",
            "\n"
          ],
          "name": "stdout"
        }
      ]
    },
    {
      "cell_type": "code",
      "metadata": {
        "id": "LnemQyH9zjkz",
        "colab_type": "code",
        "outputId": "de998fb8-4515-4834-8133-eb99da90ad63",
        "colab": {
          "base_uri": "https://localhost:8080/",
          "height": 55
        }
      },
      "source": [
        "#add a column\n",
        "rc.withColumn('DoubleColumn', 2*rc['Arrest'])"
      ],
      "execution_count": 0,
      "outputs": [
        {
          "output_type": "execute_result",
          "data": {
            "text/plain": [
              "DataFrame[ID: string, Case Number: string, Date: timestamp, Block: string, IUCR: string, Primary Type: string, Description: string, Location Description: string, Arrest: string, Domestic: string, Beat: string, District: string, Ward: string, Community Area: string, FBI Code: string, X Coordinate: string, Y Coordinate: string, Year: string, Updated On: string, Latitude: string, Longitude: string, Location: string, Historical Wards 2003-2015: string, Zip Codes: string, Community Areas: string, Census Tracts: string, Wards: string, Boundaries - ZIP Codes: string, Police Districts: string, Police Beats: string, DoubleColumn: double]"
            ]
          },
          "metadata": {
            "tags": []
          },
          "execution_count": 44
        }
      ]
    },
    {
      "cell_type": "code",
      "metadata": {
        "id": "6Q08V_8j0aND",
        "colab_type": "code",
        "outputId": "5717aea9-5dcc-44fe-9451-eeef5bec25d3",
        "colab": {
          "base_uri": "https://localhost:8080/",
          "height": 55
        }
      },
      "source": [
        "rc.withColumnRenamed('DoubleColumn', 'DoubleArrest')"
      ],
      "execution_count": 0,
      "outputs": [
        {
          "output_type": "execute_result",
          "data": {
            "text/plain": [
              "DataFrame[ID: string, Case Number: string, Date: timestamp, Block: string, IUCR: string, Primary Type: string, Description: string, Location Description: string, Arrest: string, Domestic: string, Beat: string, District: string, Ward: string, Community Area: string, FBI Code: string, X Coordinate: string, Y Coordinate: string, Year: string, Updated On: string, Latitude: string, Longitude: string, Location: string, Historical Wards 2003-2015: string, Zip Codes: string, Community Areas: string, Census Tracts: string, Wards: string, Boundaries - ZIP Codes: string, Police Districts: string, Police Beats: string]"
            ]
          },
          "metadata": {
            "tags": []
          },
          "execution_count": 46
        }
      ]
    },
    {
      "cell_type": "code",
      "metadata": {
        "id": "0gLLUM8y03gu",
        "colab_type": "code",
        "outputId": "b3ace005-e29d-48f6-b812-002aa369ac90",
        "colab": {
          "base_uri": "https://localhost:8080/",
          "height": 55
        }
      },
      "source": [
        "rc.drop('DoubleArrest')"
      ],
      "execution_count": 0,
      "outputs": [
        {
          "output_type": "execute_result",
          "data": {
            "text/plain": [
              "DataFrame[ID: string, Case Number: string, Date: timestamp, Block: string, IUCR: string, Primary Type: string, Description: string, Location Description: string, Arrest: string, Domestic: string, Beat: string, District: string, Ward: string, Community Area: string, FBI Code: string, X Coordinate: string, Y Coordinate: string, Year: string, Updated On: string, Latitude: string, Longitude: string, Location: string, Historical Wards 2003-2015: string, Zip Codes: string, Community Areas: string, Census Tracts: string, Wards: string, Boundaries - ZIP Codes: string, Police Districts: string, Police Beats: string]"
            ]
          },
          "metadata": {
            "tags": []
          },
          "execution_count": 47
        }
      ]
    },
    {
      "cell_type": "code",
      "metadata": {
        "id": "mCcDs-LM1ETY",
        "colab_type": "code",
        "colab": {}
      },
      "source": [
        "#group by\n",
        "from pyspark.sql.functions import lit"
      ],
      "execution_count": 0,
      "outputs": []
    },
    {
      "cell_type": "code",
      "metadata": {
        "id": "ZRidi8Zr1m4a",
        "colab_type": "code",
        "outputId": "01a769d1-324f-4f4f-bb89-121469db55fe",
        "colab": {
          "base_uri": "https://localhost:8080/",
          "height": 55
        }
      },
      "source": [
        "rc.withColumn('One', lit(1))"
      ],
      "execution_count": 0,
      "outputs": [
        {
          "output_type": "execute_result",
          "data": {
            "text/plain": [
              "DataFrame[ID: string, Case Number: string, Date: timestamp, Block: string, IUCR: string, Primary Type: string, Description: string, Location Description: string, Arrest: string, Domestic: string, Beat: string, District: string, Ward: string, Community Area: string, FBI Code: string, X Coordinate: string, Y Coordinate: string, Year: string, Updated On: string, Latitude: string, Longitude: string, Location: string, Historical Wards 2003-2015: string, Zip Codes: string, Community Areas: string, Census Tracts: string, Wards: string, Boundaries - ZIP Codes: string, Police Districts: string, Police Beats: string, One: int]"
            ]
          },
          "metadata": {
            "tags": []
          },
          "execution_count": 49
        }
      ]
    },
    {
      "cell_type": "code",
      "metadata": {
        "id": "vYhCgZmY1q1k",
        "colab_type": "code",
        "outputId": "89bf2f72-8ff7-4211-f486-a64cc838e020",
        "colab": {
          "base_uri": "https://localhost:8080/",
          "height": 124
        }
      },
      "source": [
        "#row 比较检索\n",
        "rc.filter(col('Arrest')>1).show(5)"
      ],
      "execution_count": 0,
      "outputs": [
        {
          "output_type": "stream",
          "text": [
            "+---+-----------+----+-----+----+------------+-----------+--------------------+------+--------+----+--------+----+--------------+--------+------------+------------+----+----------+--------+---------+--------+--------------------------+---------+---------------+-------------+-----+----------------------+----------------+------------+\n",
            "| ID|Case Number|Date|Block|IUCR|Primary Type|Description|Location Description|Arrest|Domestic|Beat|District|Ward|Community Area|FBI Code|X Coordinate|Y Coordinate|Year|Updated On|Latitude|Longitude|Location|Historical Wards 2003-2015|Zip Codes|Community Areas|Census Tracts|Wards|Boundaries - ZIP Codes|Police Districts|Police Beats|\n",
            "+---+-----------+----+-----+----+------------+-----------+--------------------+------+--------+----+--------+----+--------------+--------+------------+------------+----+----------+--------+---------+--------+--------------------------+---------+---------------+-------------+-----+----------------------+----------------+------------+\n",
            "+---+-----------+----+-----+----+------------+-----------+--------------------+------+--------+----+--------+----+--------------+--------+------------+------------+----+----------+--------+---------+--------+--------------------------+---------+---------------+-------------+-----+----------------------+----------------+------------+\n",
            "\n"
          ],
          "name": "stdout"
        }
      ]
    },
    {
      "cell_type": "code",
      "metadata": {
        "id": "-0rqCMyJ2C4r",
        "colab_type": "code",
        "outputId": "ea374c44-d058-4b47-a373-0512e7a0f4ca",
        "colab": {
          "base_uri": "https://localhost:8080/",
          "height": 208
        }
      },
      "source": [
        "rc.select('ID').distinct().show(5)"
      ],
      "execution_count": 0,
      "outputs": [
        {
          "output_type": "stream",
          "text": [
            "+--------+\n",
            "|      ID|\n",
            "+--------+\n",
            "|11503821|\n",
            "|11503260|\n",
            "|11503062|\n",
            "|11508922|\n",
            "|11502421|\n",
            "+--------+\n",
            "only showing top 5 rows\n",
            "\n"
          ],
          "name": "stdout"
        }
      ]
    },
    {
      "cell_type": "code",
      "metadata": {
        "id": "3aDlsoST2dK2",
        "colab_type": "code",
        "outputId": "67f2749f-72a0-4c95-98c4-82229bfe8d2f",
        "colab": {
          "base_uri": "https://localhost:8080/",
          "height": 228
        }
      },
      "source": [
        "#sort\n",
        "rc.orderBy(col('Arrest')).show(5)"
      ],
      "execution_count": 0,
      "outputs": [
        {
          "output_type": "stream",
          "text": [
            "+--------+-----------+-------------------+--------------------+----+-------------------+--------------+--------------------+------+--------+----+--------+----+--------------+--------+------------+------------+----+--------------------+------------+-------------+--------------------+--------------------------+---------+---------------+-------------+-----+----------------------+----------------+------------+\n",
            "|      ID|Case Number|               Date|               Block|IUCR|       Primary Type|   Description|Location Description|Arrest|Domestic|Beat|District|Ward|Community Area|FBI Code|X Coordinate|Y Coordinate|Year|          Updated On|    Latitude|    Longitude|            Location|Historical Wards 2003-2015|Zip Codes|Community Areas|Census Tracts|Wards|Boundaries - ZIP Codes|Police Districts|Police Beats|\n",
            "+--------+-----------+-------------------+--------------------+----+-------------------+--------------+--------------------+------+--------+----+--------+----+--------------+--------+------------+------------+----+--------------------+------------+-------------+--------------------+--------------------------+---------+---------------+-------------+-----+----------------------+----------------+------------+\n",
            "|11504330|   JB512058|2018-11-10 23:55:00|021XX W GREENLEAF...|0820|              THEFT|$500 AND UNDER|              STREET| false|   false|2411|     024|  50|             2|      06|     1160583|     1946926|2018|11/17/2018 04:14:...|42.010065214|-87.684502849|(42.010065214, -8...|                        42|    22528|             20|          268|   27|                    12|              11|          35|\n",
            "|11503920|   JB511504|2018-11-10 23:53:00|081XX S HERMITAGE...|0910|MOTOR VEHICLE THEFT|    AUTOMOBILE|           APARTMENT| false|   false|0614|     006|  21|            71|      07|     1166095|     1850727|2018|11/17/2018 04:14:...|41.745971025|-87.666970419|(41.745971025, -8...|                         6|    21554|             70|          574|   13|                    59|              20|         237|\n",
            "|11504110|   JB511795|2018-11-10 23:50:00|   013XX S TRIPP AVE|1320|    CRIMINAL DAMAGE|    TO VEHICLE|VEHICLE NON-COMME...| false|   false|1011|     010|  24|            29|      14|     1148267|     1893365|2018|11/17/2018 04:14:...|  41.8633364|-87.731202138|(41.8633364, -87....|                        36|    21569|             30|          761|   14|                    57|              21|         155|\n",
            "|11503924|   JB511536|2018-11-10 23:45:00|  083XX S RHODES AVE|1310|    CRIMINAL DAMAGE|   TO PROPERTY|           RESIDENCE| false|    true|0632|     006|   6|            44|      14|     1181251|     1849759|2018|11/17/2018 04:14:...|41.742979225| -87.61146577|(41.742979225, -8...|                        31|    21546|             40|          140|   32|                    61|              20|         241|\n",
            "|11503921|   JB511539|2018-11-10 23:42:00|    055XX S GREEN ST|0580|           STALKING|        SIMPLE|           RESIDENCE| false|    true|0712|     007|  20|            68|     08A|     1171583|     1868046|2018|11/17/2018 04:14:...|41.793378076|-87.646354376|(41.793378076, -8...|                        53|    21559|             66|          113|    4|                    11|              17|         261|\n",
            "+--------+-----------+-------------------+--------------------+----+-------------------+--------------+--------------------+------+--------+----+--------+----+--------------+--------+------------+------------+----+--------------------+------------+-------------+--------------------+--------------------------+---------+---------------+-------------+-----+----------------------+----------------+------------+\n",
            "only showing top 5 rows\n",
            "\n"
          ],
          "name": "stdout"
        }
      ]
    },
    {
      "cell_type": "code",
      "metadata": {
        "id": "FeUzemI_62ow",
        "colab_type": "code",
        "colab": {}
      },
      "source": [
        ""
      ],
      "execution_count": 0,
      "outputs": []
    },
    {
      "cell_type": "code",
      "metadata": {
        "id": "6Nqg58Zs2ypL",
        "colab_type": "code",
        "colab": {}
      },
      "source": [
        "one_day =  spark.read.csv('reported-crimes.csv',header=True).withColumn('Date',to_timestamp(col('Date'),'MM/dd/yyyy hh:mm:ss a')).filter(col('Date') == lit('2018-11-11'))\n"
      ],
      "execution_count": 0,
      "outputs": []
    },
    {
      "cell_type": "code",
      "metadata": {
        "id": "XSKXsILQ3TV-",
        "colab_type": "code",
        "outputId": "431ba1be-f4dc-4b20-f442-b4aa2134e4de",
        "colab": {
          "base_uri": "https://localhost:8080/",
          "height": 228
        }
      },
      "source": [
        "one_day.show(5)"
      ],
      "execution_count": 0,
      "outputs": [
        {
          "output_type": "stream",
          "text": [
            "+--------+-----------+-------------------+--------------------+----+-------------------+--------------------+--------------------+------+--------+----+--------+----+--------------+--------+------------+------------+----+--------------------+------------+-------------+--------------------+--------------------------+---------+---------------+-------------+-----+----------------------+----------------+------------+\n",
            "|      ID|Case Number|               Date|               Block|IUCR|       Primary Type|         Description|Location Description|Arrest|Domestic|Beat|District|Ward|Community Area|FBI Code|X Coordinate|Y Coordinate|Year|          Updated On|    Latitude|    Longitude|            Location|Historical Wards 2003-2015|Zip Codes|Community Areas|Census Tracts|Wards|Boundaries - ZIP Codes|Police Districts|Police Beats|\n",
            "+--------+-----------+-------------------+--------------------+----+-------------------+--------------------+--------------------+------+--------+----+--------+----+--------------+--------+------------+------------+----+--------------------+------------+-------------+--------------------+--------------------------+---------+---------------+-------------+-----+----------------------+----------------+------------+\n",
            "|11595518|   JC152109|2018-11-11 00:00:00|043XX N GREENVIEW...|1153| DECEPTIVE PRACTICE|FINANCIAL IDENTIT...|  SMALL RETAIL STORE| false|   false|1912|     019|  47|             6|      11|        null|        null|2018|02/15/2019 04:04:...|        null|         null|                null|                      null|     null|           null|         null| null|                  null|            null|        null|\n",
            "|11504835|   JB512723|2018-11-11 00:00:00|011XX W GARFIELD ...|1305|    CRIMINAL DAMAGE| CRIMINAL DEFACEMENT|           RESIDENCE| false|   false|0712|     007|  16|            68|      14|     1169461|     1868186|2018|11/18/2018 04:11:...|41.793808521|-87.654131491|(41.793808521, -8...|                        19|    21559|             66|          409|    4|                    37|              23|         127|\n",
            "|11504126|   JB511829|2018-11-11 00:00:00|    012XX N NOBLE ST|1320|    CRIMINAL DAMAGE|          TO VEHICLE|              STREET| false|   false|1433|     014|   2|            24|      14|     1166828|     1908386|2018|11/18/2018 04:11:...|41.904177725|-87.662635226|(41.904177725, -8...|                        24|    22620|             25|          483|   11|                    49|               7|         191|\n",
            "|11513303|   JB523990|2018-11-11 00:00:00|  007XX S CICERO AVE|0281|CRIM SEXUAL ASSAULT|      NON-AGGRAVATED|              STREET| false|   false|1131|     011|  24|            25|      02|     1144511|     1896107|2018|11/24/2018 04:03:...|41.870932257|-87.744921277|(41.870932257, -8...|                        36|    22216|             26|           61|    7|                    32|              25|         137|\n",
            "|11507744|   JB516509|2018-11-11 00:00:00|   033XX S DAMEN AVE|0820|              THEFT|      $500 AND UNDER|           RESIDENCE| false|   false|0912|     009|  12|            59|      06|     1163564|     1882504|2018|11/18/2018 04:11:...|41.833224596|-87.675353441|(41.833224596, -8...|                        26|    14920|             56|            2|    1|                    43|              23|         165|\n",
            "+--------+-----------+-------------------+--------------------+----+-------------------+--------------------+--------------------+------+--------+----+--------+----+--------------+--------+------------+------------+----+--------------------+------------+-------------+--------------------+--------------------------+---------+---------------+-------------+-----+----------------------+----------------+------------+\n",
            "only showing top 5 rows\n",
            "\n"
          ],
          "name": "stdout"
        }
      ]
    },
    {
      "cell_type": "code",
      "metadata": {
        "id": "NwUhtU0z3VA-",
        "colab_type": "code",
        "colab": {}
      },
      "source": [
        "rc.union(one_day).orderBy('Date', ascending = False).show(5)"
      ],
      "execution_count": 0,
      "outputs": []
    },
    {
      "cell_type": "code",
      "metadata": {
        "id": "-RwyRzhl3tv1",
        "colab_type": "code",
        "outputId": "45158c68-409b-4c3d-f1f2-cb93ba25660f",
        "colab": {
          "base_uri": "https://localhost:8080/",
          "height": 468
        }
      },
      "source": [
        "rc.groupby('Primary Type').count().show()"
      ],
      "execution_count": 0,
      "outputs": [
        {
          "output_type": "stream",
          "text": [
            "+--------------------+-------+\n",
            "|        Primary Type|  count|\n",
            "+--------------------+-------+\n",
            "|OFFENSE INVOLVING...|  45467|\n",
            "|            STALKING|   3379|\n",
            "|PUBLIC PEACE VIOL...|  47785|\n",
            "|           OBSCENITY|    583|\n",
            "|NON-CRIMINAL (SUB...|      9|\n",
            "|               ARSON|  11156|\n",
            "|   DOMESTIC VIOLENCE|      1|\n",
            "|            GAMBLING|  14422|\n",
            "|   CRIMINAL TRESPASS| 193367|\n",
            "|             ASSAULT| 418487|\n",
            "|      NON - CRIMINAL|     38|\n",
            "|LIQUOR LAW VIOLATION|  14067|\n",
            "| MOTOR VEHICLE THEFT| 314159|\n",
            "|               THEFT|1418268|\n",
            "|             BATTERY|1232184|\n",
            "|             ROBBERY| 255599|\n",
            "|            HOMICIDE|   9438|\n",
            "|           RITUALISM|     23|\n",
            "|    PUBLIC INDECENCY|    161|\n",
            "| CRIM SEXUAL ASSAULT|  27269|\n",
            "+--------------------+-------+\n",
            "only showing top 20 rows\n",
            "\n"
          ],
          "name": "stdout"
        }
      ]
    },
    {
      "cell_type": "code",
      "metadata": {
        "id": "khD2zRwD4QBo",
        "colab_type": "code",
        "outputId": "a6d7ad90-3fa0-4b34-dc80-6b4709056993",
        "colab": {
          "base_uri": "https://localhost:8080/",
          "height": 295
        }
      },
      "source": [
        "rc.groupby('Primary Type').count().orderBy('count',asscending=False).show(10)"
      ],
      "execution_count": 0,
      "outputs": [
        {
          "output_type": "stream",
          "text": [
            "+--------------------+-----+\n",
            "|        Primary Type|count|\n",
            "+--------------------+-----+\n",
            "|   DOMESTIC VIOLENCE|    1|\n",
            "|NON-CRIMINAL (SUB...|    9|\n",
            "|           RITUALISM|   23|\n",
            "|      NON - CRIMINAL|   38|\n",
            "|   HUMAN TRAFFICKING|   50|\n",
            "|OTHER NARCOTIC VI...|  124|\n",
            "|    PUBLIC INDECENCY|  161|\n",
            "|        NON-CRIMINAL|  164|\n",
            "|CONCEALED CARRY L...|  283|\n",
            "|           OBSCENITY|  583|\n",
            "+--------------------+-----+\n",
            "only showing top 10 rows\n",
            "\n"
          ],
          "name": "stdout"
        }
      ]
    },
    {
      "cell_type": "code",
      "metadata": {
        "id": "cPrtCm3-4rNH",
        "colab_type": "code",
        "outputId": "478f6dcf-86b1-458e-d808-5da27d9d42bc",
        "colab": {
          "base_uri": "https://localhost:8080/",
          "height": 35
        }
      },
      "source": [
        "rc.filter(col('Arrest') == 'true').count() / rc.select('Arrest').count()"
      ],
      "execution_count": 0,
      "outputs": [
        {
          "output_type": "execute_result",
          "data": {
            "text/plain": [
              "0"
            ]
          },
          "metadata": {
            "tags": []
          },
          "execution_count": 69
        }
      ]
    },
    {
      "cell_type": "code",
      "metadata": {
        "id": "nSApBQtV6RoJ",
        "colab_type": "code",
        "outputId": "baf0e3ad-77d6-484b-dfac-d13e5f44b0ee",
        "colab": {
          "base_uri": "https://localhost:8080/",
          "height": 139
        }
      },
      "source": [
        "rc.select('Arrest').distinct().show()"
      ],
      "execution_count": 0,
      "outputs": [
        {
          "output_type": "stream",
          "text": [
            "+------+\n",
            "|Arrest|\n",
            "+------+\n",
            "| false|\n",
            "|  true|\n",
            "+------+\n",
            "\n"
          ],
          "name": "stdout"
        }
      ]
    },
    {
      "cell_type": "code",
      "metadata": {
        "id": "r2zrFEfm7AFL",
        "colab_type": "code",
        "outputId": "3cc8135e-4224-4909-ca1b-f04eb371fdc3",
        "colab": {
          "base_uri": "https://localhost:8080/",
          "height": 35
        }
      },
      "source": [
        "rc.filter(col('Arrest') == 'true').count()"
      ],
      "execution_count": 0,
      "outputs": [
        {
          "output_type": "execute_result",
          "data": {
            "text/plain": [
              "1873088"
            ]
          },
          "metadata": {
            "tags": []
          },
          "execution_count": 65
        }
      ]
    },
    {
      "cell_type": "code",
      "metadata": {
        "id": "far2gRxM7QBw",
        "colab_type": "code",
        "outputId": "61b42aa6-fd11-4866-8866-60dc92e21939",
        "colab": {
          "base_uri": "https://localhost:8080/",
          "height": 35
        }
      },
      "source": [
        "rc.select('Arrest').count()"
      ],
      "execution_count": 0,
      "outputs": [
        {
          "output_type": "execute_result",
          "data": {
            "text/plain": [
              "6750013"
            ]
          },
          "metadata": {
            "tags": []
          },
          "execution_count": 66
        }
      ]
    },
    {
      "cell_type": "code",
      "metadata": {
        "id": "bH3kNwSY5tev",
        "colab_type": "code",
        "outputId": "ef7c6c5f-0a2d-46fa-b84b-94e5edc27c7a",
        "colab": {
          "base_uri": "https://localhost:8080/",
          "height": 468
        }
      },
      "source": [
        "rc.groupby('Location Description').count().show()"
      ],
      "execution_count": 0,
      "outputs": [
        {
          "output_type": "stream",
          "text": [
            "+--------------------+------+\n",
            "|Location Description| count|\n",
            "+--------------------+------+\n",
            "|   RAILROAD PROPERTY|    13|\n",
            "|AIRPORT TERMINAL ...|  1602|\n",
            "|EXPRESSWAY EMBANK...|     1|\n",
            "|POLICE FACILITY/V...| 17573|\n",
            "|               MOTEL|     5|\n",
            "|            SIDEWALK|665476|\n",
            "|AIRPORT TERMINAL ...|    77|\n",
            "|PUBLIC GRAMMAR SC...|     1|\n",
            "|CTA GARAGE / OTHE...|  9938|\n",
            "|            CAR WASH|  2775|\n",
            "|   TRUCKING TERMINAL|     1|\n",
            "|    AIRPORT/AIRCRAFT| 16104|\n",
            "|            HOSPITAL|     5|\n",
            "|MEDICAL/DENTAL OF...|  7099|\n",
            "|    FEDERAL BUILDING|   777|\n",
            "|             TRAILER|     3|\n",
            "|SCHOOL, PUBLIC, G...| 28992|\n",
            "|         CTA STATION|  3910|\n",
            "|SPORTS ARENA/STADIUM|  4997|\n",
            "|                FARM|     2|\n",
            "+--------------------+------+\n",
            "only showing top 20 rows\n",
            "\n"
          ],
          "name": "stdout"
        }
      ]
    },
    {
      "cell_type": "code",
      "metadata": {
        "id": "hTzf1mCG58_y",
        "colab_type": "code",
        "outputId": "0bb5183f-a9cd-4643-d8cf-dbb35101b4f7",
        "colab": {
          "base_uri": "https://localhost:8080/",
          "height": 173
        }
      },
      "source": [
        "rc.groupby('Location Description').count().orderBy('count', ascending = False).show(3)"
      ],
      "execution_count": 0,
      "outputs": [
        {
          "output_type": "stream",
          "text": [
            "+--------------------+-------+\n",
            "|Location Description|  count|\n",
            "+--------------------+-------+\n",
            "|              STREET|1770538|\n",
            "|           RESIDENCE|1143636|\n",
            "|           APARTMENT| 697735|\n",
            "+--------------------+-------+\n",
            "only showing top 3 rows\n",
            "\n"
          ],
          "name": "stdout"
        }
      ]
    },
    {
      "cell_type": "code",
      "metadata": {
        "id": "8LYbOSnf6UwQ",
        "colab_type": "code",
        "outputId": "7ce357af-26dd-4461-8a0f-99d84363a7fe",
        "colab": {
          "base_uri": "https://localhost:8080/",
          "height": 55
        }
      },
      "source": [
        "from pyspark.sql import functions\n",
        "print(dir(functions))"
      ],
      "execution_count": 0,
      "outputs": [
        {
          "output_type": "stream",
          "text": [
            "['Column', 'DataFrame', 'DataType', 'PandasUDFType', 'PythonEvalType', 'SparkContext', 'StringType', 'UserDefinedFunction', '__all__', '__builtins__', '__doc__', '__file__', '__name__', '__package__', '_binary_mathfunctions', '_collect_list_doc', '_collect_set_doc', '_create_binary_mathfunction', '_create_column_from_literal', '_create_function', '_create_udf', '_create_window_function', '_functions', '_functions_1_4', '_functions_1_6', '_functions_2_1', '_functions_2_4', '_functions_deprecated', '_lit_doc', '_message', '_string_functions', '_test', '_to_java_column', '_to_seq', '_window_functions', '_wrap_deprecated_function', 'abs', 'acos', 'add_months', 'approxCountDistinct', 'approx_count_distinct', 'array', 'array_contains', 'array_distinct', 'array_except', 'array_intersect', 'array_join', 'array_max', 'array_min', 'array_position', 'array_remove', 'array_repeat', 'array_sort', 'array_union', 'arrays_overlap', 'arrays_zip', 'asc', 'asc_nulls_first', 'asc_nulls_last', 'ascii', 'asin', 'atan', 'atan2', 'avg', 'base64', 'bin', 'bitwiseNOT', 'blacklist', 'broadcast', 'bround', 'cbrt', 'ceil', 'coalesce', 'col', 'collect_list', 'collect_set', 'column', 'concat', 'concat_ws', 'conv', 'corr', 'cos', 'cosh', 'count', 'countDistinct', 'covar_pop', 'covar_samp', 'crc32', 'create_map', 'cume_dist', 'current_date', 'current_timestamp', 'date_add', 'date_format', 'date_sub', 'date_trunc', 'datediff', 'dayofmonth', 'dayofweek', 'dayofyear', 'decode', 'degrees', 'dense_rank', 'desc', 'desc_nulls_first', 'desc_nulls_last', 'element_at', 'encode', 'exp', 'explode', 'explode_outer', 'expm1', 'expr', 'factorial', 'first', 'flatten', 'floor', 'format_number', 'format_string', 'from_json', 'from_unixtime', 'from_utc_timestamp', 'functools', 'get_json_object', 'greatest', 'grouping', 'grouping_id', 'hash', 'hex', 'hour', 'hypot', 'ignore_unicode_prefix', 'initcap', 'input_file_name', 'instr', 'isnan', 'isnull', 'json_tuple', 'k', 'kurtosis', 'lag', 'last', 'last_day', 'lead', 'least', 'length', 'levenshtein', 'lit', 'locate', 'log', 'log10', 'log1p', 'log2', 'lower', 'lpad', 'ltrim', 'map', 'map_concat', 'map_from_arrays', 'map_from_entries', 'map_keys', 'map_values', 'max', 'md5', 'mean', 'min', 'minute', 'monotonically_increasing_id', 'month', 'months_between', 'nanvl', 'next_day', 'ntile', 'pandas_udf', 'percent_rank', 'posexplode', 'posexplode_outer', 'pow', 'quarter', 'radians', 'rand', 'randn', 'rank', 'regexp_extract', 'regexp_replace', 'repeat', 'reverse', 'rint', 'round', 'row_number', 'rpad', 'rtrim', 'schema_of_json', 'second', 'sequence', 'sha1', 'sha2', 'shiftLeft', 'shiftRight', 'shiftRightUnsigned', 'shuffle', 'signum', 'sin', 'since', 'sinh', 'size', 'skewness', 'slice', 'sort_array', 'soundex', 'spark_partition_id', 'split', 'sqrt', 'stddev', 'stddev_pop', 'stddev_samp', 'struct', 'substring', 'substring_index', 'sum', 'sumDistinct', 'sys', 'tan', 'tanh', 'toDegrees', 'toRadians', 'to_date', 'to_json', 'to_timestamp', 'to_utc_timestamp', 'translate', 'trim', 'trunc', 'udf', 'unbase64', 'unhex', 'unix_timestamp', 'upper', 'v', 'var_pop', 'var_samp', 'variance', 'warnings', 'weekofyear', 'when', 'window', 'year']\n"
          ],
          "name": "stdout"
        }
      ]
    },
    {
      "cell_type": "code",
      "metadata": {
        "id": "ousfFPVz7dZj",
        "colab_type": "code",
        "colab": {}
      },
      "source": [
        "from pyspark.sql.functions import lower, upper, substring"
      ],
      "execution_count": 0,
      "outputs": []
    },
    {
      "cell_type": "code",
      "metadata": {
        "id": "lIPzvKMq74SC",
        "colab_type": "code",
        "outputId": "b9a38539-50b9-44d1-b990-2d9d42fe4341",
        "colab": {
          "base_uri": "https://localhost:8080/",
          "height": 277
        }
      },
      "source": [
        "help(substring)"
      ],
      "execution_count": 0,
      "outputs": [
        {
          "output_type": "stream",
          "text": [
            "Help on function substring in module pyspark.sql.functions:\n",
            "\n",
            "substring(str, pos, len)\n",
            "    Substring starts at `pos` and is of length `len` when str is String type or\n",
            "    returns the slice of byte array that starts at `pos` in byte and is of length `len`\n",
            "    when str is Binary type.\n",
            "    \n",
            "    .. note:: The position is not zero based, but 1 based index.\n",
            "    \n",
            "    >>> df = spark.createDataFrame([('abcd',)], ['s',])\n",
            "    >>> df.select(substring(df.s, 1, 2).alias('s')).collect()\n",
            "    [Row(s=u'ab')]\n",
            "    \n",
            "    .. versionadded:: 1.5\n",
            "\n"
          ],
          "name": "stdout"
        }
      ]
    },
    {
      "cell_type": "code",
      "metadata": {
        "id": "Tc_Uzz0X76SE",
        "colab_type": "code",
        "outputId": "2caaf49c-2cfd-4c3a-b89d-7389ea97873a",
        "colab": {
          "base_uri": "https://localhost:8080/",
          "height": 208
        }
      },
      "source": [
        "rc.select(lower(col('Primary Type')), upper(col('Primary Type')), substring(col('Primary Type'), 1, 4)).show(5)"
      ],
      "execution_count": 0,
      "outputs": [
        {
          "output_type": "stream",
          "text": [
            "+-------------------+-------------------+-----------------------------+\n",
            "|lower(Primary Type)|upper(Primary Type)|substring(Primary Type, 1, 4)|\n",
            "+-------------------+-------------------+-----------------------------+\n",
            "|              theft|              THEFT|                         THEF|\n",
            "|motor vehicle theft|MOTOR VEHICLE THEFT|                         MOTO|\n",
            "|    criminal damage|    CRIMINAL DAMAGE|                         CRIM|\n",
            "|    criminal damage|    CRIMINAL DAMAGE|                         CRIM|\n",
            "|           stalking|           STALKING|                         STAL|\n",
            "+-------------------+-------------------+-----------------------------+\n",
            "only showing top 5 rows\n",
            "\n"
          ],
          "name": "stdout"
        }
      ]
    },
    {
      "cell_type": "code",
      "metadata": {
        "id": "rcV6FtsV8del",
        "colab_type": "code",
        "colab": {}
      },
      "source": [
        "from pyspark.sql.functions import min, max"
      ],
      "execution_count": 0,
      "outputs": []
    },
    {
      "cell_type": "code",
      "metadata": {
        "id": "xaYVpx_f8nj4",
        "colab_type": "code",
        "outputId": "2fb22bd6-9543-4d4d-ee63-f4d9f4297615",
        "colab": {
          "base_uri": "https://localhost:8080/",
          "height": 121
        }
      },
      "source": [
        "rc.select(min(col('Date')), max(col('Date'))).show(1)"
      ],
      "execution_count": 0,
      "outputs": [
        {
          "output_type": "stream",
          "text": [
            "+-------------------+-------------------+\n",
            "|          min(Date)|          max(Date)|\n",
            "+-------------------+-------------------+\n",
            "|2001-01-01 00:00:00|2018-11-10 23:55:00|\n",
            "+-------------------+-------------------+\n",
            "\n"
          ],
          "name": "stdout"
        }
      ]
    },
    {
      "cell_type": "code",
      "metadata": {
        "id": "bXb64XqL8ySX",
        "colab_type": "code",
        "outputId": "86fe95d0-2b9d-4e1d-d24a-17eca2041459",
        "colab": {
          "base_uri": "https://localhost:8080/",
          "height": 121
        }
      },
      "source": [
        "rc.select(min(col('Date')), max(col('Date'))).show()"
      ],
      "execution_count": 0,
      "outputs": [
        {
          "output_type": "stream",
          "text": [
            "+-------------------+-------------------+\n",
            "|          min(Date)|          max(Date)|\n",
            "+-------------------+-------------------+\n",
            "|2001-01-01 00:00:00|2018-11-10 23:55:00|\n",
            "+-------------------+-------------------+\n",
            "\n"
          ],
          "name": "stdout"
        }
      ]
    },
    {
      "cell_type": "code",
      "metadata": {
        "id": "G3ZzglwX82tD",
        "colab_type": "code",
        "colab": {}
      },
      "source": [
        "#为什么没有代码提示？？？\n",
        "from pyspark.sql.functions import date_add, date_sub, to_date, to_timestamp, lit"
      ],
      "execution_count": 0,
      "outputs": []
    },
    {
      "cell_type": "code",
      "metadata": {
        "id": "OXXUbzxP9PfL",
        "colab_type": "code",
        "outputId": "5284205e-e56c-4fdd-9ed5-e12a97867db3",
        "colab": {
          "base_uri": "https://localhost:8080/",
          "height": 121
        }
      },
      "source": [
        "rc.select(date_sub(min(col('Date')),3),date_add(max(col('Date')),3)).show()"
      ],
      "execution_count": 0,
      "outputs": [
        {
          "output_type": "stream",
          "text": [
            "+----------------------+----------------------+\n",
            "|date_sub(min(Date), 3)|date_add(max(Date), 3)|\n",
            "+----------------------+----------------------+\n",
            "|            2000-12-29|            2018-11-13|\n",
            "+----------------------+----------------------+\n",
            "\n"
          ],
          "name": "stdout"
        }
      ]
    },
    {
      "cell_type": "code",
      "metadata": {
        "id": "Ch7npki-9vZH",
        "colab_type": "code",
        "outputId": "95a0e46a-c98a-4de7-878f-9db7ab70a626",
        "colab": {
          "base_uri": "https://localhost:8080/",
          "height": 121
        }
      },
      "source": [
        "#create df\n",
        "df = spark.createDataFrame([('2019-12-25 13:30:00',)],['Christmas'])\n",
        "df.show(1)"
      ],
      "execution_count": 0,
      "outputs": [
        {
          "output_type": "stream",
          "text": [
            "+-------------------+\n",
            "|          Christmas|\n",
            "+-------------------+\n",
            "|2019-12-25 13:30:00|\n",
            "+-------------------+\n",
            "\n"
          ],
          "name": "stdout"
        }
      ]
    },
    {
      "cell_type": "code",
      "metadata": {
        "id": "WCBfoO-X_eSL",
        "colab_type": "code",
        "outputId": "70f56be3-dfe3-49eb-cc11-82e4e4034c83",
        "colab": {
          "base_uri": "https://localhost:8080/",
          "height": 121
        }
      },
      "source": [
        "df.select(to_date(col('Christmas'), 'yyyy-MM-dd HH:mm:ss'), to_timestamp(col('Christmas'), 'yyyy-MM-dd HH:mm:ss')).show()"
      ],
      "execution_count": 0,
      "outputs": [
        {
          "output_type": "stream",
          "text": [
            "+-------------------------------------------+------------------------------------------------+\n",
            "|to_date(`Christmas`, 'yyyy-MM-dd HH:mm:ss')|to_timestamp(`Christmas`, 'yyyy-MM-dd HH:mm:ss')|\n",
            "+-------------------------------------------+------------------------------------------------+\n",
            "|                                 2019-12-25|                             2019-12-25 13:30:00|\n",
            "+-------------------------------------------+------------------------------------------------+\n",
            "\n"
          ],
          "name": "stdout"
        }
      ]
    },
    {
      "cell_type": "code",
      "metadata": {
        "id": "nB_XhnSH_1mG",
        "colab_type": "code",
        "outputId": "b2ddddb3-e635-4339-f22b-ee4d971aaff8",
        "colab": {
          "base_uri": "https://localhost:8080/",
          "height": 121
        }
      },
      "source": [
        "df = spark.createDataFrame([('25/Dec/2019 13:30:00',)],['Christmas'])\n",
        "df.show(1)"
      ],
      "execution_count": 0,
      "outputs": [
        {
          "output_type": "stream",
          "text": [
            "+--------------------+\n",
            "|           Christmas|\n",
            "+--------------------+\n",
            "|25/Dec/2019 13:30:00|\n",
            "+--------------------+\n",
            "\n"
          ],
          "name": "stdout"
        }
      ]
    },
    {
      "cell_type": "code",
      "metadata": {
        "id": "Izz_bP_QAOx7",
        "colab_type": "code",
        "outputId": "d4fae683-4d4c-43c4-9d8c-a15dcceb6737",
        "colab": {
          "base_uri": "https://localhost:8080/",
          "height": 121
        }
      },
      "source": [
        "#什么问题？？？\n",
        "df.select(to_date(col('Christmas'), 'dd/MM/yyyy HH:mm:ss'), to_timestamp(col('Christmas'), 'dd/MM/yyyy HH:mm:ss')).show()"
      ],
      "execution_count": 0,
      "outputs": [
        {
          "output_type": "stream",
          "text": [
            "+-------------------------------------------+------------------------------------------------+\n",
            "|to_date(`Christmas`, 'dd/MM/yyyy HH:mm:ss')|to_timestamp(`Christmas`, 'dd/MM/yyyy HH:mm:ss')|\n",
            "+-------------------------------------------+------------------------------------------------+\n",
            "|                                       null|                                            null|\n",
            "+-------------------------------------------+------------------------------------------------+\n",
            "\n"
          ],
          "name": "stdout"
        }
      ]
    },
    {
      "cell_type": "code",
      "metadata": {
        "id": "q4G6xPPTAcc0",
        "colab_type": "code",
        "outputId": "d116aefd-1aaa-4c92-a9a7-21ef9117f6b7",
        "colab": {
          "base_uri": "https://localhost:8080/",
          "height": 121
        }
      },
      "source": [
        "df = spark.createDataFrame([('12/25/2019 13:30:00 PM',)],['Christmas'])\n",
        "df.show(1, truncate=False)"
      ],
      "execution_count": 0,
      "outputs": [
        {
          "output_type": "stream",
          "text": [
            "+----------------------+\n",
            "|Christmas             |\n",
            "+----------------------+\n",
            "|12/25/2019 13:30:00 PM|\n",
            "+----------------------+\n",
            "\n"
          ],
          "name": "stdout"
        }
      ]
    },
    {
      "cell_type": "code",
      "metadata": {
        "id": "F1sOmE6FBhTW",
        "colab_type": "code",
        "outputId": "12731ceb-2afb-4cab-d26c-93e307460ac7",
        "colab": {
          "base_uri": "https://localhost:8080/",
          "height": 225
        }
      },
      "source": [
        "df.select(to_date(col('Christmas'), 'MM/dd/yyyy hh:mm:ss aa'), to_timestamp(col('Christmas'), 'MM/dd/yyyy hh:mm:ss aa')).show(1)\n",
        "df.select(to_date(col('Christmas'),'MM/dd/yyyy hh:mm:ss aa'),to_timestamp(col('Christmas'),'MM/dd/yyyy hh:mm:ss aa')).show(1)"
      ],
      "execution_count": 0,
      "outputs": [
        {
          "output_type": "stream",
          "text": [
            "+----------------------------------------------+---------------------------------------------------+\n",
            "|to_date(`Christmas`, 'MM/dd/yyyy hh:mm:ss aa')|to_timestamp(`Christmas`, 'MM/dd/yyyy hh:mm:ss aa')|\n",
            "+----------------------------------------------+---------------------------------------------------+\n",
            "|                                          null|                                               null|\n",
            "+----------------------------------------------+---------------------------------------------------+\n",
            "\n",
            "+----------------------------------------------+---------------------------------------------------+\n",
            "|to_date(`Christmas`, 'MM/dd/yyyy hh:mm:ss aa')|to_timestamp(`Christmas`, 'MM/dd/yyyy hh:mm:ss aa')|\n",
            "+----------------------------------------------+---------------------------------------------------+\n",
            "|                                          null|                                               null|\n",
            "+----------------------------------------------+---------------------------------------------------+\n",
            "\n"
          ],
          "name": "stdout"
        }
      ]
    },
    {
      "cell_type": "code",
      "metadata": {
        "id": "Hf7IHm14Cq_Z",
        "colab_type": "code",
        "colab": {}
      },
      "source": [
        "df.join(df2, df.column == df.column, how = {'inner'})"
      ],
      "execution_count": 0,
      "outputs": []
    },
    {
      "cell_type": "code",
      "metadata": {
        "id": "7iphPcJcV2wa",
        "colab_type": "code",
        "outputId": "5b550d29-7613-4cf8-9f48-8bc503d4c4fe",
        "colab": {
          "base_uri": "https://localhost:8080/",
          "height": 228
        }
      },
      "source": [
        "rc.show(5)"
      ],
      "execution_count": 0,
      "outputs": [
        {
          "output_type": "stream",
          "text": [
            "+--------+-----------+-------------------+--------------------+----+-------------------+--------------+--------------------+------+--------+----+--------+----+--------------+--------+------------+------------+----+--------------------+------------+-------------+--------------------+--------------------------+---------+---------------+-------------+-----+----------------------+----------------+------------+\n",
            "|      ID|Case Number|               Date|               Block|IUCR|       Primary Type|   Description|Location Description|Arrest|Domestic|Beat|District|Ward|Community Area|FBI Code|X Coordinate|Y Coordinate|Year|          Updated On|    Latitude|    Longitude|            Location|Historical Wards 2003-2015|Zip Codes|Community Areas|Census Tracts|Wards|Boundaries - ZIP Codes|Police Districts|Police Beats|\n",
            "+--------+-----------+-------------------+--------------------+----+-------------------+--------------+--------------------+------+--------+----+--------+----+--------------+--------+------------+------------+----+--------------------+------------+-------------+--------------------+--------------------------+---------+---------------+-------------+-----+----------------------+----------------+------------+\n",
            "|11504330|   JB512058|2018-11-10 23:55:00|021XX W GREENLEAF...|0820|              THEFT|$500 AND UNDER|              STREET| false|   false|2411|     024|  50|             2|      06|     1160583|     1946926|2018|11/17/2018 04:14:...|42.010065214|-87.684502849|(42.010065214, -8...|                        42|    22528|             20|          268|   27|                    12|              11|          35|\n",
            "|11503920|   JB511504|2018-11-10 23:53:00|081XX S HERMITAGE...|0910|MOTOR VEHICLE THEFT|    AUTOMOBILE|           APARTMENT| false|   false|0614|     006|  21|            71|      07|     1166095|     1850727|2018|11/17/2018 04:14:...|41.745971025|-87.666970419|(41.745971025, -8...|                         6|    21554|             70|          574|   13|                    59|              20|         237|\n",
            "|11504110|   JB511795|2018-11-10 23:50:00|   013XX S TRIPP AVE|1320|    CRIMINAL DAMAGE|    TO VEHICLE|VEHICLE NON-COMME...| false|   false|1011|     010|  24|            29|      14|     1148267|     1893365|2018|11/17/2018 04:14:...|  41.8633364|-87.731202138|(41.8633364, -87....|                        36|    21569|             30|          761|   14|                    57|              21|         155|\n",
            "|11503924|   JB511536|2018-11-10 23:45:00|  083XX S RHODES AVE|1310|    CRIMINAL DAMAGE|   TO PROPERTY|           RESIDENCE| false|    true|0632|     006|   6|            44|      14|     1181251|     1849759|2018|11/17/2018 04:14:...|41.742979225| -87.61146577|(41.742979225, -8...|                        31|    21546|             40|          140|   32|                    61|              20|         241|\n",
            "|11503921|   JB511539|2018-11-10 23:42:00|    055XX S GREEN ST|0580|           STALKING|        SIMPLE|           RESIDENCE| false|    true|0712|     007|  20|            68|     08A|     1171583|     1868046|2018|11/17/2018 04:14:...|41.793378076|-87.646354376|(41.793378076, -8...|                        53|    21559|             66|          113|    4|                    11|              17|         261|\n",
            "+--------+-----------+-------------------+--------------------+----+-------------------+--------------+--------------------+------+--------+----+--------+----+--------------+--------+------------+------------+----+--------------------+------------+-------------+--------------------+--------------------------+---------+---------------+-------------+-----+----------------------+----------------+------------+\n",
            "only showing top 5 rows\n",
            "\n"
          ],
          "name": "stdout"
        }
      ]
    },
    {
      "cell_type": "markdown",
      "metadata": {
        "id": "rcvCvr39WxU1",
        "colab_type": "text"
      },
      "source": [
        "\n",
        "\n",
        "---\n",
        "\n"
      ]
    },
    {
      "cell_type": "code",
      "metadata": {
        "id": "QPw7n_qoV4Jk",
        "colab_type": "code",
        "outputId": "4bc6491a-e71d-4446-b95c-458bb1426c42",
        "colab": {
          "base_uri": "https://localhost:8080/",
          "height": 225
        }
      },
      "source": [
        "!wget -O police-station.csv https://data.cityofchicago.org/api/views/z8bn-74gv/rows.csv?accessType=DOWNLOAD"
      ],
      "execution_count": 0,
      "outputs": [
        {
          "output_type": "stream",
          "text": [
            "--2019-05-14 17:19:27--  https://data.cityofchicago.org/api/views/z8bn-74gv/rows.csv?accessType=DOWNLOAD\n",
            "Resolving data.cityofchicago.org (data.cityofchicago.org)... 52.206.68.26, 52.206.140.199, 52.206.140.205\n",
            "Connecting to data.cityofchicago.org (data.cityofchicago.org)|52.206.68.26|:443... connected.\n",
            "HTTP request sent, awaiting response... 200 OK\n",
            "Length: unspecified [text/csv]\n",
            "Saving to: ‘police-station.csv’\n",
            "\n",
            "\rpolice-station.csv      [<=>                 ]       0  --.-KB/s               \rpolice-station.csv      [ <=>                ]   5.57K  --.-KB/s    in 0s      \n",
            "\n",
            "Last-modified header invalid -- time-stamp ignored.\n",
            "2019-05-14 17:19:27 (580 MB/s) - ‘police-station.csv’ saved [5699]\n",
            "\n"
          ],
          "name": "stdout"
        }
      ]
    },
    {
      "cell_type": "code",
      "metadata": {
        "id": "igNjpzypWT9r",
        "colab_type": "code",
        "outputId": "71339dd4-928b-4501-e0c6-a39d262d5c61",
        "colab": {
          "base_uri": "https://localhost:8080/",
          "height": 228
        }
      },
      "source": [
        "ps = spark.read.csv('police-station.csv', header = True)\n",
        "ps.show(5)"
      ],
      "execution_count": 0,
      "outputs": [
        {
          "output_type": "stream",
          "text": [
            "+--------+--------------+--------------------+-------+-----+-----+--------------------+------------+------------+------------+------------+------------+-----------+------------+--------------------+\n",
            "|DISTRICT| DISTRICT NAME|             ADDRESS|   CITY|STATE|  ZIP|             WEBSITE|       PHONE|         FAX|         TTY|X COORDINATE|Y COORDINATE|   LATITUDE|   LONGITUDE|            LOCATION|\n",
            "+--------+--------------+--------------------+-------+-----+-----+--------------------+------------+------------+------------+------------+------------+-----------+------------+--------------------+\n",
            "|       1|       Central|     1718 S State St|Chicago|   IL|60616|http://home.chica...|312-745-4290|312-745-3694|312-745-3693| 1176569.052| 1891771.704|41.85837259|-87.62735617|(41.8583725929, -...|\n",
            "|       2|     Wentworth|5101 S Wentworth Ave|Chicago|   IL|60609|http://home.chica...|312-747-8366|312-747-5396|312-747-6656| 1175864.837| 1871153.753|41.80181109|-87.63056018|(41.8018110912, -...|\n",
            "|       3|Grand Crossing|7040 S Cottage Gr...|Chicago|   IL|60637|http://home.chica...|312-747-8201|312-747-5479|312-747-9168| 1182739.183| 1858317.732|41.76643089|-87.60574786|(41.7664308925, -...|\n",
            "|       4| South Chicago|     2255 E 103rd St|Chicago|   IL|60617|http://home.chica...|312-747-7581|312-747-5276|312-747-9169| 1193131.299| 1837090.265|41.70793329|-87.56834912|(41.7079332906, -...|\n",
            "|       5|       Calumet|      727 E 111th St|Chicago|   IL|60628|http://home.chica...|312-747-8210|312-747-5935|312-747-9170| 1183305.427| 1831462.313|41.69272336|-87.60450587|(41.6927233639, -...|\n",
            "+--------+--------------+--------------------+-------+-----+-----+--------------------+------------+------------+------------+------------+------------+-----------+------------+--------------------+\n",
            "only showing top 5 rows\n",
            "\n"
          ],
          "name": "stdout"
        }
      ]
    },
    {
      "cell_type": "code",
      "metadata": {
        "id": "CJh7h7QDXDGU",
        "colab_type": "code",
        "outputId": "d267ef7f-f251-4f6e-c53f-454ef5551c81",
        "colab": {
          "base_uri": "https://localhost:8080/",
          "height": 35
        }
      },
      "source": [
        "rc.cache()\n",
        "rc.count()"
      ],
      "execution_count": 0,
      "outputs": [
        {
          "output_type": "execute_result",
          "data": {
            "text/plain": [
              "6750013"
            ]
          },
          "metadata": {
            "tags": []
          },
          "execution_count": 101
        }
      ]
    },
    {
      "cell_type": "code",
      "metadata": {
        "id": "2fp_4vwKX0sM",
        "colab_type": "code",
        "outputId": "729f71a7-02ab-4e42-fc5d-bb0d9c794211",
        "colab": {
          "base_uri": "https://localhost:8080/",
          "height": 520
        }
      },
      "source": [
        "ps.select(col('DISTRICT')).distinct().show(30)"
      ],
      "execution_count": 0,
      "outputs": [
        {
          "output_type": "stream",
          "text": [
            "+--------------------+\n",
            "|            DISTRICT|\n",
            "+--------------------+\n",
            "|                   7|\n",
            "|                  15|\n",
            "|                  11|\n",
            "|                   3|\n",
            "|                   8|\n",
            "|                  22|\n",
            "|                  16|\n",
            "|                   5|\n",
            "|                  18|\n",
            "|                  17|\n",
            "|                   6|\n",
            "|                  19|\n",
            "|                  25|\n",
            "|        Headquarters|\n",
            "|                   9|\n",
            "|                  24|\n",
            "|                   1|\n",
            "|                  20|\n",
            "|                  10|\n",
            "|                   4|\n",
            "|                  12|\n",
            "|                  14|\n",
            "|                   2|\n",
            "|\",Chicago,IL,6060...|\n",
            "+--------------------+\n",
            "\n"
          ],
          "name": "stdout"
        }
      ]
    },
    {
      "cell_type": "code",
      "metadata": {
        "id": "bvHZ8y6IYYMT",
        "colab_type": "code",
        "outputId": "1706a3bc-72ac-41d7-cf10-89ad173c0a9c",
        "colab": {
          "base_uri": "https://localhost:8080/",
          "height": 208
        }
      },
      "source": [
        "from pyspark.sql.functions import lpad\n",
        "help(lpad)"
      ],
      "execution_count": 0,
      "outputs": [
        {
          "output_type": "stream",
          "text": [
            "Help on function lpad in module pyspark.sql.functions:\n",
            "\n",
            "lpad(col, len, pad)\n",
            "    Left-pad the string column to width `len` with `pad`.\n",
            "    \n",
            "    >>> df = spark.createDataFrame([('abcd',)], ['s',])\n",
            "    >>> df.select(lpad(df.s, 6, '#').alias('s')).collect()\n",
            "    [Row(s=u'##abcd')]\n",
            "    \n",
            "    .. versionadded:: 1.5\n",
            "\n"
          ],
          "name": "stdout"
        }
      ]
    },
    {
      "cell_type": "code",
      "metadata": {
        "id": "7fs91iCOYdhn",
        "colab_type": "code",
        "outputId": "3db74c91-0eea-455b-f8ab-c26ae6dc098e",
        "colab": {
          "base_uri": "https://localhost:8080/",
          "height": 228
        }
      },
      "source": [
        "ps = ps.withColumn('Format_district', lpad(col('DISTRICT'), 3,'0'))\n",
        "ps.show(5)"
      ],
      "execution_count": 0,
      "outputs": [
        {
          "output_type": "stream",
          "text": [
            "+--------+--------------+--------------------+-------+-----+-----+--------------------+------------+------------+------------+------------+------------+-----------+------------+--------------------+---------------+\n",
            "|DISTRICT| DISTRICT NAME|             ADDRESS|   CITY|STATE|  ZIP|             WEBSITE|       PHONE|         FAX|         TTY|X COORDINATE|Y COORDINATE|   LATITUDE|   LONGITUDE|            LOCATION|Format_district|\n",
            "+--------+--------------+--------------------+-------+-----+-----+--------------------+------------+------------+------------+------------+------------+-----------+------------+--------------------+---------------+\n",
            "|       1|       Central|     1718 S State St|Chicago|   IL|60616|http://home.chica...|312-745-4290|312-745-3694|312-745-3693| 1176569.052| 1891771.704|41.85837259|-87.62735617|(41.8583725929, -...|            001|\n",
            "|       2|     Wentworth|5101 S Wentworth Ave|Chicago|   IL|60609|http://home.chica...|312-747-8366|312-747-5396|312-747-6656| 1175864.837| 1871153.753|41.80181109|-87.63056018|(41.8018110912, -...|            002|\n",
            "|       3|Grand Crossing|7040 S Cottage Gr...|Chicago|   IL|60637|http://home.chica...|312-747-8201|312-747-5479|312-747-9168| 1182739.183| 1858317.732|41.76643089|-87.60574786|(41.7664308925, -...|            003|\n",
            "|       4| South Chicago|     2255 E 103rd St|Chicago|   IL|60617|http://home.chica...|312-747-7581|312-747-5276|312-747-9169| 1193131.299| 1837090.265|41.70793329|-87.56834912|(41.7079332906, -...|            004|\n",
            "|       5|       Calumet|      727 E 111th St|Chicago|   IL|60628|http://home.chica...|312-747-8210|312-747-5935|312-747-9170| 1183305.427| 1831462.313|41.69272336|-87.60450587|(41.6927233639, -...|            005|\n",
            "+--------+--------------+--------------------+-------+-----+-----+--------------------+------------+------------+------------+------------+------------+-----------+------------+--------------------+---------------+\n",
            "only showing top 5 rows\n",
            "\n"
          ],
          "name": "stdout"
        }
      ]
    },
    {
      "cell_type": "code",
      "metadata": {
        "id": "C2oNt_1WZ631",
        "colab_type": "code",
        "outputId": "c6e2c586-e67e-499a-c221-9aa307e843a3",
        "colab": {
          "base_uri": "https://localhost:8080/",
          "height": 228
        }
      },
      "source": [
        "rc.join(ps, rc.District == ps.Format_district, 'left_outer').drop('ADDRESS',\n",
        " 'CITY',\n",
        " 'STATE',\n",
        " 'ZIP',\n",
        " 'WEBSITE',\n",
        " 'PHONE',\n",
        " 'FAX',\n",
        " 'TTY',\n",
        " 'X COORDINATE',\n",
        " 'Y COORDINATE',\n",
        " 'LATITUDE',\n",
        " 'LONGITUDE',\n",
        " 'LOCATION',\n",
        " 'Format_district').show(5)"
      ],
      "execution_count": 0,
      "outputs": [
        {
          "output_type": "stream",
          "text": [
            "+--------+-----------+-------------------+--------------------+----+-------------------+--------------+--------------------+------+--------+----+--------+----+--------------+--------+----+--------------------+--------------------------+---------+---------------+-------------+-----+----------------------+----------------+------------+--------+-------------+\n",
            "|      ID|Case Number|               Date|               Block|IUCR|       Primary Type|   Description|Location Description|Arrest|Domestic|Beat|District|Ward|Community Area|FBI Code|Year|          Updated On|Historical Wards 2003-2015|Zip Codes|Community Areas|Census Tracts|Wards|Boundaries - ZIP Codes|Police Districts|Police Beats|DISTRICT|DISTRICT NAME|\n",
            "+--------+-----------+-------------------+--------------------+----+-------------------+--------------+--------------------+------+--------+----+--------+----+--------------+--------+----+--------------------+--------------------------+---------+---------------+-------------+-----+----------------------+----------------+------------+--------+-------------+\n",
            "|11504330|   JB512058|2018-11-10 23:55:00|021XX W GREENLEAF...|0820|              THEFT|$500 AND UNDER|              STREET| false|   false|2411|     024|  50|             2|      06|2018|11/17/2018 04:14:...|                        42|    22528|             20|          268|   27|                    12|              11|          35|      24|  Rogers Park|\n",
            "|11503920|   JB511504|2018-11-10 23:53:00|081XX S HERMITAGE...|0910|MOTOR VEHICLE THEFT|    AUTOMOBILE|           APARTMENT| false|   false|0614|     006|  21|            71|      07|2018|11/17/2018 04:14:...|                         6|    21554|             70|          574|   13|                    59|              20|         237|       6|      Gresham|\n",
            "|11504110|   JB511795|2018-11-10 23:50:00|   013XX S TRIPP AVE|1320|    CRIMINAL DAMAGE|    TO VEHICLE|VEHICLE NON-COMME...| false|   false|1011|     010|  24|            29|      14|2018|11/17/2018 04:14:...|                        36|    21569|             30|          761|   14|                    57|              21|         155|      10|        Ogden|\n",
            "|11503924|   JB511536|2018-11-10 23:45:00|  083XX S RHODES AVE|1310|    CRIMINAL DAMAGE|   TO PROPERTY|           RESIDENCE| false|    true|0632|     006|   6|            44|      14|2018|11/17/2018 04:14:...|                        31|    21546|             40|          140|   32|                    61|              20|         241|       6|      Gresham|\n",
            "|11503921|   JB511539|2018-11-10 23:42:00|    055XX S GREEN ST|0580|           STALKING|        SIMPLE|           RESIDENCE| false|    true|0712|     007|  20|            68|     08A|2018|11/17/2018 04:14:...|                        53|    21559|             66|          113|    4|                    11|              17|         261|       7|    Englewood|\n",
            "+--------+-----------+-------------------+--------------------+----+-------------------+--------------+--------------------+------+--------+----+--------+----+--------------+--------+----+--------------------+--------------------------+---------+---------------+-------------+-----+----------------------+----------------+------------+--------+-------------+\n",
            "only showing top 5 rows\n",
            "\n"
          ],
          "name": "stdout"
        }
      ]
    },
    {
      "cell_type": "code",
      "metadata": {
        "id": "jmIA_exmah7m",
        "colab_type": "code",
        "outputId": "5a657177-9605-4fd5-86d8-950edbca65f6",
        "colab": {
          "base_uri": "https://localhost:8080/",
          "height": 295
        }
      },
      "source": [
        "ps.columns"
      ],
      "execution_count": 0,
      "outputs": [
        {
          "output_type": "execute_result",
          "data": {
            "text/plain": [
              "['DISTRICT',\n",
              " 'DISTRICT NAME',\n",
              " 'ADDRESS',\n",
              " 'CITY',\n",
              " 'STATE',\n",
              " 'ZIP',\n",
              " 'WEBSITE',\n",
              " 'PHONE',\n",
              " 'FAX',\n",
              " 'TTY',\n",
              " 'X COORDINATE',\n",
              " 'Y COORDINATE',\n",
              " 'LATITUDE',\n",
              " 'LONGITUDE',\n",
              " 'LOCATION',\n",
              " 'Format_district']"
            ]
          },
          "metadata": {
            "tags": []
          },
          "execution_count": 108
        }
      ]
    },
    {
      "cell_type": "code",
      "metadata": {
        "id": "RFtX_kyvbYIY",
        "colab_type": "code",
        "outputId": "0f8e0f0e-a406-4f45-8929-55507b0dc4c1",
        "colab": {
          "base_uri": "https://localhost:8080/",
          "height": 711
        }
      },
      "source": [
        "rc.select(col('Primary Type')).distinct().orderBy(col('Primary Type')).show(35, truncate= False)"
      ],
      "execution_count": 0,
      "outputs": [
        {
          "output_type": "stream",
          "text": [
            "+---------------------------------+\n",
            "|Primary Type                     |\n",
            "+---------------------------------+\n",
            "|ARSON                            |\n",
            "|ASSAULT                          |\n",
            "|BATTERY                          |\n",
            "|BURGLARY                         |\n",
            "|CONCEALED CARRY LICENSE VIOLATION|\n",
            "|CRIM SEXUAL ASSAULT              |\n",
            "|CRIMINAL DAMAGE                  |\n",
            "|CRIMINAL TRESPASS                |\n",
            "|DECEPTIVE PRACTICE               |\n",
            "|DOMESTIC VIOLENCE                |\n",
            "|GAMBLING                         |\n",
            "|HOMICIDE                         |\n",
            "|HUMAN TRAFFICKING                |\n",
            "|INTERFERENCE WITH PUBLIC OFFICER |\n",
            "|INTIMIDATION                     |\n",
            "|KIDNAPPING                       |\n",
            "|LIQUOR LAW VIOLATION             |\n",
            "|MOTOR VEHICLE THEFT              |\n",
            "|NARCOTICS                        |\n",
            "|NON - CRIMINAL                   |\n",
            "|NON-CRIMINAL                     |\n",
            "|NON-CRIMINAL (SUBJECT SPECIFIED) |\n",
            "|OBSCENITY                        |\n",
            "|OFFENSE INVOLVING CHILDREN       |\n",
            "|OTHER NARCOTIC VIOLATION         |\n",
            "|OTHER OFFENSE                    |\n",
            "|PROSTITUTION                     |\n",
            "|PUBLIC INDECENCY                 |\n",
            "|PUBLIC PEACE VIOLATION           |\n",
            "|RITUALISM                        |\n",
            "|ROBBERY                          |\n",
            "|SEX OFFENSE                      |\n",
            "|STALKING                         |\n",
            "|THEFT                            |\n",
            "|WEAPONS VIOLATION                |\n",
            "+---------------------------------+\n",
            "\n"
          ],
          "name": "stdout"
        }
      ]
    },
    {
      "cell_type": "code",
      "metadata": {
        "id": "4dfo34HQcWMP",
        "colab_type": "code",
        "colab": {}
      },
      "source": [
        "nc = rc.filter((col('Primary Type') == 'NON - CRIMINAL')|(col('Primary Type') == 'NON-CRIMINAL')|(col('Primary Type') == 'NON-CRIMINAL (SUBJECT SPECIFIED)'))"
      ],
      "execution_count": 0,
      "outputs": []
    },
    {
      "cell_type": "code",
      "metadata": {
        "id": "lCpFbr_MdyOZ",
        "colab_type": "code",
        "outputId": "c63a7736-9501-4e3c-85d6-38d8eed13a6e",
        "colab": {
          "base_uri": "https://localhost:8080/",
          "height": 228
        }
      },
      "source": [
        "nc.show(5)"
      ],
      "execution_count": 0,
      "outputs": [
        {
          "output_type": "stream",
          "text": [
            "+--------+-----------+-------------------+--------------------+----+------------+--------------------+--------------------+------+--------+----+--------+----+--------------+--------+------------+------------+----+--------------------+------------+-------------+--------------------+--------------------------+---------+---------------+-------------+-----+----------------------+----------------+------------+\n",
            "|      ID|Case Number|               Date|               Block|IUCR|Primary Type|         Description|Location Description|Arrest|Domestic|Beat|District|Ward|Community Area|FBI Code|X Coordinate|Y Coordinate|Year|          Updated On|    Latitude|    Longitude|            Location|Historical Wards 2003-2015|Zip Codes|Community Areas|Census Tracts|Wards|Boundaries - ZIP Codes|Police Districts|Police Beats|\n",
            "+--------+-----------+-------------------+--------------------+----+------------+--------------------+--------------------+------+--------+----+--------+----+--------------+--------+------------+------------+----+--------------------+------------+-------------+--------------------+--------------------------+---------+---------------+-------------+-----+----------------------+----------------+------------+\n",
            "|11531319|   JB547859|2018-11-05 14:00:00|  030XX N LINDER AVE|5093|NON-CRIMINAL|       LOST PASSPORT|           RESIDENCE| false|   false|2514|     025|  31|            19|      26|     1139171|     1919733|2018|12/13/2018 04:09:...|41.935863587|-87.763950872|(41.935863587, -8...|                         7|    22618|             19|          303|   17|                    21|               6|         177|\n",
            "|11519476|   JB531997|2018-10-22 08:00:00|  058XX N PULASKI RD|5093|NON-CRIMINAL|       LOST PASSPORT|            SIDEWALK| false|   false|1711|     017|  39|            13|      26|     1148682|     1938093|2018|12/01/2018 04:01:...|41.986066128|-87.728520584|(41.986066128, -8...|                        28|    22532|             13|          748|   38|                    18|               1|          53|\n",
            "|11481984|   JB481736|2018-10-19 13:00:00| 0000X W TERMINAL ST|5093|NON-CRIMINAL|       LOST PASSPORT|AIRPORT TERMINAL ...| false|   false|1655|     016|  41|            76|      26|     1104700|     1933741|2018|10/26/2018 04:09:...|41.974861952|-87.890372151|(41.974861952, -8...|                        34|    16197|             75|          668|   29|                    38|              12|          16|\n",
            "|11473294|   JB471086|2018-10-11 06:30:00|  057XX S NATOMA AVE|5114|NON-CRIMINAL|   FOID - REVOCATION|           RESIDENCE| false|   false|0811|     008|  23|            56|      26|     1133037|     1865812|2018|10/18/2018 04:27:...|41.788005878|  -87.7877535|(41.788005878, -8...|                        35|    22268|             53|          589|   15|                     7|              13|         131|\n",
            "|11467852|   JB463876|2018-10-05 16:30:00|015XX W BALMORAL AVE|0585|NON-CRIMINAL|NOTIFICATION OF S...|              STREET| false|   false|2012|     020|  40|            77|      26|     1164980|     1935945|2018|10/12/2018 03:54:...|41.979840482|-87.668638415|(41.979840482, -8...|                        46|    22616|             76|          564|   24|                    15|               2|          55|\n",
            "+--------+-----------+-------------------+--------------------+----+------------+--------------------+--------------------+------+--------+----+--------+----+--------------+--------+------------+------------+----+--------------------+------------+-------------+--------------------+--------------------------+---------+---------------+-------------+-----+----------------------+----------------+------------+\n",
            "only showing top 5 rows\n",
            "\n"
          ],
          "name": "stdout"
        }
      ]
    },
    {
      "cell_type": "code",
      "metadata": {
        "id": "cWlu2mf4d09c",
        "colab_type": "code",
        "outputId": "46c4c6fd-0e49-4604-b30d-11148a33a34c",
        "colab": {
          "base_uri": "https://localhost:8080/",
          "height": 225
        }
      },
      "source": [
        "nc.groupBy(col('Description')).count().orderBy('count', ascending=False).show()"
      ],
      "execution_count": 0,
      "outputs": [
        {
          "output_type": "stream",
          "text": [
            "+--------------------+-----+\n",
            "|         Description|count|\n",
            "+--------------------+-----+\n",
            "|       LOST PASSPORT|  107|\n",
            "|   FOID - REVOCATION|   75|\n",
            "|NOTIFICATION OF C...|    9|\n",
            "|NOTIFICATION OF S...|    8|\n",
            "|CONCEALED CARRY L...|    5|\n",
            "|      FOUND PASSPORT|    4|\n",
            "|GUN OFFENDER NOTI...|    3|\n",
            "+--------------------+-----+\n",
            "\n"
          ],
          "name": "stdout"
        }
      ]
    },
    {
      "cell_type": "code",
      "metadata": {
        "id": "9JxktR0veP2n",
        "colab_type": "code",
        "outputId": "dec1da4c-d08d-45be-b72c-02d0cd70f83e",
        "colab": {
          "base_uri": "https://localhost:8080/",
          "height": 208
        }
      },
      "source": [
        "from pyspark.sql.functions import min, max, dayofweek,date_format\n",
        "help(dayofweek)"
      ],
      "execution_count": 0,
      "outputs": [
        {
          "output_type": "stream",
          "text": [
            "Help on function dayofweek in module pyspark.sql.functions:\n",
            "\n",
            "dayofweek(col)\n",
            "    Extract the day of the week of a given date as integer.\n",
            "    \n",
            "    >>> df = spark.createDataFrame([('2015-04-08',)], ['dt'])\n",
            "    >>> df.select(dayofweek('dt').alias('day')).collect()\n",
            "    [Row(day=4)]\n",
            "    \n",
            "    .. versionadded:: 2.3\n",
            "\n"
          ],
          "name": "stdout"
        }
      ]
    },
    {
      "cell_type": "code",
      "metadata": {
        "id": "tiy87bPResFK",
        "colab_type": "code",
        "outputId": "8d64a28e-9510-434a-fe50-7ff1a5883cf4",
        "colab": {
          "base_uri": "https://localhost:8080/",
          "height": 208
        }
      },
      "source": [
        "rc.select(col('Date'), dayofweek(col('Date')),date_format(col('Date'), 'E')).show(5)"
      ],
      "execution_count": 0,
      "outputs": [
        {
          "output_type": "stream",
          "text": [
            "+-------------------+---------------+--------------------+\n",
            "|               Date|dayofweek(Date)|date_format(Date, E)|\n",
            "+-------------------+---------------+--------------------+\n",
            "|2018-11-10 23:55:00|              7|                 Sat|\n",
            "|2018-11-10 23:53:00|              7|                 Sat|\n",
            "|2018-11-10 23:50:00|              7|                 Sat|\n",
            "|2018-11-10 23:45:00|              7|                 Sat|\n",
            "|2018-11-10 23:42:00|              7|                 Sat|\n",
            "+-------------------+---------------+--------------------+\n",
            "only showing top 5 rows\n",
            "\n"
          ],
          "name": "stdout"
        }
      ]
    },
    {
      "cell_type": "code",
      "metadata": {
        "id": "PE5fd7UBesLL",
        "colab_type": "code",
        "outputId": "f57efde5-e47a-4abd-d230-f0c7ca9729cd",
        "colab": {
          "base_uri": "https://localhost:8080/",
          "height": 225
        }
      },
      "source": [
        "rc.groupBy(date_format(col('Date'), 'E')).count().orderBy('count', ascending=False).show()"
      ],
      "execution_count": 0,
      "outputs": [
        {
          "output_type": "stream",
          "text": [
            "+--------------------+-------+\n",
            "|date_format(Date, E)|  count|\n",
            "+--------------------+-------+\n",
            "|                 Fri|1016455|\n",
            "|                 Wed| 973398|\n",
            "|                 Tue| 967592|\n",
            "|                 Sat| 964787|\n",
            "|                 Thu| 964039|\n",
            "|                 Mon| 952229|\n",
            "|                 Sun| 911513|\n",
            "+--------------------+-------+\n",
            "\n"
          ],
          "name": "stdout"
        }
      ]
    },
    {
      "cell_type": "code",
      "metadata": {
        "id": "FsGuwXSpepSt",
        "colab_type": "code",
        "outputId": "581fee27-322f-4e5a-cd9d-2e8ec3a2ed50",
        "colab": {
          "base_uri": "https://localhost:8080/",
          "height": 139
        }
      },
      "source": [
        "rc.groupBy(date_format(col('Date'), 'E')).count().collect() #return list"
      ],
      "execution_count": 0,
      "outputs": [
        {
          "output_type": "execute_result",
          "data": {
            "text/plain": [
              "[Row(date_format(Date, E)=u'Sun', count=911513),\n",
              " Row(date_format(Date, E)=u'Mon', count=952229),\n",
              " Row(date_format(Date, E)=u'Thu', count=964039),\n",
              " Row(date_format(Date, E)=u'Sat', count=964787),\n",
              " Row(date_format(Date, E)=u'Wed', count=973398),\n",
              " Row(date_format(Date, E)=u'Fri', count=1016455),\n",
              " Row(date_format(Date, E)=u'Tue', count=967592)]"
            ]
          },
          "metadata": {
            "tags": []
          },
          "execution_count": 126
        }
      ]
    },
    {
      "cell_type": "code",
      "metadata": {
        "id": "ODKXpa8ugt2a",
        "colab_type": "code",
        "outputId": "08185e2e-3c1e-408e-f6e6-b70aa3cbc917",
        "colab": {
          "base_uri": "https://localhost:8080/",
          "height": 35
        }
      },
      "source": [
        "dow = [x[0] for x in rc.groupBy(date_format(col('Date'), 'E')).count().collect()]\n",
        "dow"
      ],
      "execution_count": 0,
      "outputs": [
        {
          "output_type": "execute_result",
          "data": {
            "text/plain": [
              "[u'Sun', u'Mon', u'Thu', u'Sat', u'Wed', u'Fri', u'Tue']"
            ]
          },
          "metadata": {
            "tags": []
          },
          "execution_count": 128
        }
      ]
    },
    {
      "cell_type": "code",
      "metadata": {
        "id": "EsMo2o93g2tN",
        "colab_type": "code",
        "colab": {}
      },
      "source": [
        "#RDDs setup\n",
        "psrdd = sc.textFile('police-station.csv')\n",
        "ps_header = psrdd.first()"
      ],
      "execution_count": 0,
      "outputs": []
    },
    {
      "cell_type": "code",
      "metadata": {
        "id": "xCKdH5BJi29c",
        "colab_type": "code",
        "outputId": "ba135383-9be1-414e-d356-f237cb6bb099",
        "colab": {
          "base_uri": "https://localhost:8080/",
          "height": 35
        }
      },
      "source": [
        "ps_header"
      ],
      "execution_count": 0,
      "outputs": [
        {
          "output_type": "execute_result",
          "data": {
            "text/plain": [
              "u'DISTRICT,DISTRICT NAME,ADDRESS,CITY,STATE,ZIP,WEBSITE,PHONE,FAX,TTY,X COORDINATE,Y COORDINATE,LATITUDE,LONGITUDE,LOCATION'"
            ]
          },
          "metadata": {
            "tags": []
          },
          "execution_count": 132
        }
      ]
    },
    {
      "cell_type": "code",
      "metadata": {
        "id": "fPqlWShxi47C",
        "colab_type": "code",
        "colab": {}
      },
      "source": [
        "ps_rest = psrdd.filter(lambda line: line!= ps_header)"
      ],
      "execution_count": 0,
      "outputs": []
    },
    {
      "cell_type": "code",
      "metadata": {
        "id": "CE9jQDRCj0ac",
        "colab_type": "code",
        "outputId": "fb06fd64-7939-492c-c6a0-8fef615382bd",
        "colab": {
          "base_uri": "https://localhost:8080/",
          "height": 55
        }
      },
      "source": [
        "ps_rest.first()"
      ],
      "execution_count": 0,
      "outputs": [
        {
          "output_type": "execute_result",
          "data": {
            "text/plain": [
              "u'1,Central,1718 S State St,Chicago,IL,60616,http://home.chicagopolice.org/community/districts/1st-district-central/,312-745-4290,312-745-3694,312-745-3693,1176569.052,1891771.704,41.85837259,-87.62735617,\"(41.8583725929, -87.627356171)\"'"
            ]
          },
          "metadata": {
            "tags": []
          },
          "execution_count": 140
        }
      ]
    },
    {
      "cell_type": "code",
      "metadata": {
        "id": "JSHHLYNBjFoj",
        "colab_type": "code",
        "outputId": "7a449608-d020-495e-9a35-c19ae2a48dde",
        "colab": {
          "base_uri": "https://localhost:8080/",
          "height": 35
        }
      },
      "source": [
        "ps_rest.map(lambda line: line.split(',')).collect()\n",
        "ps_rest.map(lambda line: line.split(',')).count()"
      ],
      "execution_count": 0,
      "outputs": [
        {
          "output_type": "execute_result",
          "data": {
            "text/plain": [
              "24"
            ]
          },
          "metadata": {
            "tags": []
          },
          "execution_count": 142
        }
      ]
    },
    {
      "cell_type": "code",
      "metadata": {
        "id": "ZQnstsRojJoD",
        "colab_type": "code",
        "outputId": "4564ee99-bc1c-45f9-cc3e-eb6b4a73b8e6",
        "colab": {
          "base_uri": "https://localhost:8080/",
          "height": 35
        }
      },
      "source": [
        "(ps_rest.filter(lambda line: line.split(',')[0] == '7').\n",
        "map(lambda line: (line.split(',')[0],\n",
        "                 line.split(',')[1],\n",
        "                 line.split(',')[2],\n",
        "                 line.split(',')[5])).collect())"
      ],
      "execution_count": 0,
      "outputs": [
        {
          "output_type": "execute_result",
          "data": {
            "text/plain": [
              "[(u'7', u'Englewood', u'1438 W 63rd St', u'60636')]"
            ]
          },
          "metadata": {
            "tags": []
          },
          "execution_count": 143
        }
      ]
    },
    {
      "cell_type": "code",
      "metadata": {
        "id": "ZwUJ1_rjlnxx",
        "colab_type": "code",
        "outputId": "9883817f-116d-4ed4-d049-eac2e093786c",
        "colab": {
          "base_uri": "https://localhost:8080/",
          "height": 351
        }
      },
      "source": [
        "from pyspark.sql.functions import to_date, to_timestamp\n",
        "df = spark.createDataFrame([('1997-02-28 10.30.00.100',)], ['t'])\n",
        "df.select(to_timestamp(df.t,'yyyy-MM-dd HH.mm.ss.SS').alias('date'))"
      ],
      "execution_count": 0,
      "outputs": [
        {
          "output_type": "error",
          "ename": "ImportError",
          "evalue": "ignored",
          "traceback": [
            "\u001b[0;31m\u001b[0m",
            "\u001b[0;31mImportError\u001b[0mTraceback (most recent call last)",
            "\u001b[0;32m<ipython-input-2-0238ca3b35e1>\u001b[0m in \u001b[0;36m<module>\u001b[0;34m()\u001b[0m\n\u001b[0;32m----> 1\u001b[0;31m \u001b[0;32mfrom\u001b[0m \u001b[0mpyspark\u001b[0m\u001b[0;34m.\u001b[0m\u001b[0msql\u001b[0m\u001b[0;34m.\u001b[0m\u001b[0mfunctions\u001b[0m \u001b[0;32mimport\u001b[0m \u001b[0mto_date\u001b[0m\u001b[0;34m,\u001b[0m \u001b[0mto_timestamp\u001b[0m\u001b[0;34m\u001b[0m\u001b[0m\n\u001b[0m\u001b[1;32m      2\u001b[0m \u001b[0mdf\u001b[0m \u001b[0;34m=\u001b[0m \u001b[0mspark\u001b[0m\u001b[0;34m.\u001b[0m\u001b[0mcreateDataFrame\u001b[0m\u001b[0;34m(\u001b[0m\u001b[0;34m[\u001b[0m\u001b[0;34m(\u001b[0m\u001b[0;34m'1997-02-28 10.30.00.100'\u001b[0m\u001b[0;34m,\u001b[0m\u001b[0;34m)\u001b[0m\u001b[0;34m]\u001b[0m\u001b[0;34m,\u001b[0m \u001b[0;34m[\u001b[0m\u001b[0;34m't'\u001b[0m\u001b[0;34m]\u001b[0m\u001b[0;34m)\u001b[0m\u001b[0;34m\u001b[0m\u001b[0m\n\u001b[1;32m      3\u001b[0m \u001b[0mdf\u001b[0m\u001b[0;34m.\u001b[0m\u001b[0mselect\u001b[0m\u001b[0;34m(\u001b[0m\u001b[0mto_timestamp\u001b[0m\u001b[0;34m(\u001b[0m\u001b[0mdf\u001b[0m\u001b[0;34m.\u001b[0m\u001b[0mt\u001b[0m\u001b[0;34m,\u001b[0m\u001b[0;34m'yyyy-MM-dd HH.mm.ss.SS'\u001b[0m\u001b[0;34m)\u001b[0m\u001b[0;34m.\u001b[0m\u001b[0malias\u001b[0m\u001b[0;34m(\u001b[0m\u001b[0;34m'date'\u001b[0m\u001b[0;34m)\u001b[0m\u001b[0;34m)\u001b[0m\u001b[0;34m\u001b[0m\u001b[0m\n",
            "\u001b[0;31mImportError\u001b[0m: No module named pyspark.sql.functions",
            "",
            "\u001b[0;31m---------------------------------------------------------------------------\u001b[0;32m\nNOTE: If your import is failing due to a missing package, you can\nmanually install dependencies using either !pip or !apt.\n\nTo view examples of installing some common dependencies, click the\n\"Open Examples\" button below.\n\u001b[0;31m---------------------------------------------------------------------------\u001b[0m\n"
          ]
        }
      ]
    },
    {
      "cell_type": "code",
      "metadata": {
        "id": "JuWh2-Ekx03w",
        "colab_type": "code",
        "colab": {
          "resources": {
            "http://localhost:8080/nbextensions/google.colab/files.js": {
              "data": "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",
              "ok": true,
              "headers": [
                [
                  "content-type",
                  "application/javascript"
                ]
              ],
              "status": 200,
              "status_text": ""
            }
          },
          "base_uri": "https://localhost:8080/",
          "height": 113
        },
        "outputId": "82549e4c-618d-43cf-9716-56387c004151"
      },
      "source": [
        "## read local file\n",
        "from google.colab import files \n",
        "uploaded = files.upload()"
      ],
      "execution_count": 1,
      "outputs": [
        {
          "output_type": "display_data",
          "data": {
            "text/plain": [
              "<IPython.core.display.HTML object>"
            ],
            "text/html": [
              "\n",
              "     <input type=\"file\" id=\"files-f21ac0fe-bb14-49bc-b250-6a4853529ef2\" name=\"files[]\" multiple disabled />\n",
              "     <output id=\"result-f21ac0fe-bb14-49bc-b250-6a4853529ef2\">\n",
              "      Upload widget is only available when the cell has been executed in the\n",
              "      current browser session. Please rerun this cell to enable.\n",
              "      </output>\n",
              "      <script src=\"/nbextensions/google.colab/files.js\"></script> "
            ]
          },
          "metadata": {
            "tags": []
          }
        },
        {
          "output_type": "stream",
          "text": [
            "Saving part-00000-8fac2323-af6f-48f4-8e65-776924c598e7-c000.csv to part-00000-8fac2323-af6f-48f4-8e65-776924c598e7-c000.csv\n"
          ],
          "name": "stdout"
        }
      ]
    },
    {
      "cell_type": "code",
      "metadata": {
        "id": "qDcjpGvw7_NK",
        "colab_type": "code",
        "colab": {}
      },
      "source": [
        "import pandas as pd"
      ],
      "execution_count": 0,
      "outputs": []
    },
    {
      "cell_type": "code",
      "metadata": {
        "id": "YHL7Auox8Sju",
        "colab_type": "code",
        "colab": {}
      },
      "source": [
        "import io\n",
        "df = pd.read_csv(io.BytesIO(uploaded['part-00000-8fac2323-af6f-48f4-8e65-776924c598e7-c000.csv']))"
      ],
      "execution_count": 0,
      "outputs": []
    },
    {
      "cell_type": "code",
      "metadata": {
        "id": "bhyDmL6O8dRz",
        "colab_type": "code",
        "colab": {
          "base_uri": "https://localhost:8080/",
          "height": 69
        },
        "outputId": "43ad1885-8274-4423-893c-e3f349583899"
      },
      "source": [
        "df.columns"
      ],
      "execution_count": 6,
      "outputs": [
        {
          "output_type": "execute_result",
          "data": {
            "text/plain": [
              "Index([u'LINE_AMT', u'ROW1', u'ROW2', u'ROW3', u'ROW4', u'STRM', u'ROW5',\n",
              "       u'ACAD_CAREER', u'EMPLID'],\n",
              "      dtype='object')"
            ]
          },
          "metadata": {
            "tags": []
          },
          "execution_count": 6
        }
      ]
    },
    {
      "cell_type": "code",
      "metadata": {
        "id": "sbyh37eq8tW_",
        "colab_type": "code",
        "colab": {}
      },
      "source": [
        ""
      ],
      "execution_count": 0,
      "outputs": []
    }
  ]
}